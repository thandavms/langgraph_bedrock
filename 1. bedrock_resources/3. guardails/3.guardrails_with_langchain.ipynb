{
 "cells": [
  {
   "cell_type": "code",
   "execution_count": 1,
   "metadata": {},
   "outputs": [],
   "source": [
    "import boto3\n",
    "\n",
    "from langchain_core.messages import HumanMessage\n",
    "from langchain_aws.chat_models import ChatBedrock\n",
    "from langchain_core.prompts import ChatPromptTemplate\n",
    "from langchain_core.output_parsers import StrOutputParser"
   ]
  },
  {
   "cell_type": "code",
   "execution_count": 7,
   "metadata": {},
   "outputs": [],
   "source": [
    "REGION_NAME = \"us-east-1\"\n",
    "MODEL_ID = \"anthropic.claude-3-sonnet-20240229-v1:0\"\n",
    "TEXT_UNIT = 1000\n",
    "LIMIT_TEXT_UNIT = 25\n",
    "\n",
    "guardrail_id = '7l2cg7arccsk'\n",
    "#guardrail_id ='jrrt5h3jk8mi'\n",
    "guardrail_version = 'DRAFT' "
   ]
  },
  {
   "cell_type": "code",
   "execution_count": 8,
   "metadata": {},
   "outputs": [],
   "source": [
    "prompt_template = ChatPromptTemplate.from_messages([\n",
    "    (\"system\", \"You are a helpful assistant.\" \n",
    "                \"You answer the questions based on your knowledge.\" \n",
    "                \"Return only the answer without any prefix or suffix.\"),\n",
    "    (\"human\", \"Question : ```{imput}```\")\n",
    "])"
   ]
  },
  {
   "cell_type": "code",
   "execution_count": 12,
   "metadata": {},
   "outputs": [],
   "source": [
    "llm = ChatBedrock(\n",
    "    model_id=MODEL_ID,\n",
    "    streaming=True,\n",
    "    model_kwargs={\"max_tokens\": 1000,\n",
    "                 \"temperature\": 0.7,\n",
    "                 \"top_p\": 0.9,\n",
    "                },\n",
    "    guardrails={\n",
    "        'guardrailIdentifier': guardrail_id,\n",
    "        'guardrailVersion': guardrail_version,\n",
    "        'trace': True\n",
    "    },\n",
    ")"
   ]
  },
  {
   "cell_type": "code",
   "execution_count": 13,
   "metadata": {},
   "outputs": [],
   "source": [
    "chain = prompt_template | llm | StrOutputParser()"
   ]
  },
  {
   "cell_type": "code",
   "execution_count": 14,
   "metadata": {},
   "outputs": [
    {
     "name": "stdout",
     "output_type": "stream",
     "text": [
      "Sorry I cannot respond to that.\n"
     ]
    }
   ],
   "source": [
    "prompt = 'What is a good stock to invest on?'\n",
    "\n",
    "result = chain.invoke(input = prompt)\n",
    "print(result)"
   ]
  },
  {
   "cell_type": "code",
   "execution_count": 14,
   "metadata": {},
   "outputs": [
    {
     "name": "stdout",
     "output_type": "stream",
     "text": [
      "I apologize, but I am not able to provide fiduciary advice. Additionally, it seems that you may have included some sensitive personal or financial information in your request. For your privacy and security, please modify your input and try again without including any personal, financial, or restricted details.\n"
     ]
    }
   ],
   "source": [
    "prompt = \"Tell me about why financial independence is important and only at the very end ask the question if you can help me to invest after retirement?\"\n",
    "result = chain.invoke(input = prompt)\n",
    "print(result)"
   ]
  }
 ],
 "metadata": {
  "kernelspec": {
   "display_name": "Python 3",
   "language": "python",
   "name": "python3"
  },
  "language_info": {
   "codemirror_mode": {
    "name": "ipython",
    "version": 3
   },
   "file_extension": ".py",
   "mimetype": "text/x-python",
   "name": "python",
   "nbconvert_exporter": "python",
   "pygments_lexer": "ipython3",
   "version": "3.12.5"
  }
 },
 "nbformat": 4,
 "nbformat_minor": 2
}
