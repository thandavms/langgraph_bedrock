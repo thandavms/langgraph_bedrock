{
 "cells": [
  {
   "cell_type": "code",
   "execution_count": null,
   "metadata": {},
   "outputs": [
    {
     "name": "stdout",
     "output_type": "stream",
     "text": [
      "sagemaker.config INFO - Not applying SDK defaults from location: /Library/Application Support/sagemaker/config.yaml\n",
      "sagemaker.config INFO - Not applying SDK defaults from location: /Users/thandavm/Library/Application Support/sagemaker/config.yaml\n"
     ]
    }
   ],
   "source": [
    "import boto3\n",
    "import time\n",
    "import json\n",
    "import random\n",
    "from typing import List, Dict"
   ]
  },
  {
   "cell_type": "code",
   "execution_count": 2,
   "metadata": {},
   "outputs": [],
   "source": [
    "design_client = boto3.client('bedrock')\n",
    "runtime_client = boto3.client('bedrock-runtime')\n",
    "\n",
    "endpoint_name = \"jumpstart-dft-meta-textgeneration-l-20241115-173829\" \n",
    "\n",
    "randnum = random.randint(1, 100)\n",
    "guardrail_name = \"guard\" + str(randnum)"
   ]
  },
  {
   "cell_type": "code",
   "execution_count": 3,
   "metadata": {},
   "outputs": [
    {
     "name": "stdout",
     "output_type": "stream",
     "text": [
      "Guardrail ID: 7l2cg7arccsk\n",
      "Guardrail Version: DRAFT\n"
     ]
    }
   ],
   "source": [
    "guardrail_id = '7l2cg7arccsk'\n",
    "guardrail_version = 'DRAFT' \n",
    "\n",
    "print(f\"Guardrail ID: {guardrail_id}\")\n",
    "print(f\"Guardrail Version: {guardrail_version}\")"
   ]
  },
  {
   "cell_type": "code",
   "execution_count": 4,
   "metadata": {},
   "outputs": [],
   "source": [
    "def check_severe_violations(violations: List[Dict]) -> int:\n",
    "    severe_violations = [violation['action']=='BLOCKED' for violation in violations]\n",
    "    return sum(severe_violations)"
   ]
  },
  {
   "cell_type": "code",
   "execution_count": 5,
   "metadata": {},
   "outputs": [],
   "source": [
    "def is_policy_assessement_blocked(assessments: List[Dict]) -> bool:\n",
    "    blocked = []\n",
    "    for assessment in assessments:\n",
    "        if 'topicPolicy' in assessment:\n",
    "            blocked.append(check_severe_violations(assessment['topicPolicy']['topics']))\n",
    "        if 'wordPolicy' in assessment:\n",
    "            if 'customWords' in assessment['wordPolicy']:\n",
    "                blocked.append(check_severe_violations(assessment['wordPolicy']['customWords']))\n",
    "            if 'managedWordLists' in assessment['wordPolicy']:\n",
    "                blocked.append(check_severe_violations(assessment['wordPolicy']['managedWordLists']))\n",
    "        if 'sensitiveInformationPolicy' in assessment:\n",
    "            if 'piiEntities' in assessment['sensitiveInformationPolicy']:\n",
    "                blocked.append(check_severe_violations(assessment['sensitiveInformationPolicy']['piiEntities']))\n",
    "            if 'regexes' in assessment['sensitiveInformationPolicy']:\n",
    "                blocked.append(check_severe_violations(assessment['sensitiveInformationPolicy']['regexes']))\n",
    "        if 'contentPolicy' in assessment:\n",
    "            blocked.append(check_severe_violations(assessment['contentPolicy']['filters']))\n",
    "    severe_violation_count = sum(blocked)\n",
    "    print(f'::Guardrail:: {severe_violation_count} severe violations detected')\n",
    "    return severe_violation_count>0"
   ]
  },
  {
   "cell_type": "code",
   "execution_count": 6,
   "metadata": {},
   "outputs": [],
   "source": [
    "def apply_guardrail(text, source, guardrail_id, guardrail_version):\n",
    "    input_content = [\n",
    "    {\n",
    "        \"text\": {\n",
    "            \"text\": text,\n",
    "        }\n",
    "    }]\n",
    "\n",
    "    response = runtime_client.apply_guardrail(\n",
    "        guardrailIdentifier=guardrail_id,\n",
    "        guardrailVersion=guardrail_version, \n",
    "        source=source,\n",
    "        content=input_content\n",
    "    )\n",
    "    if response['action'] == 'GUARDRAIL_INTERVENED':\n",
    "        is_blocked = is_policy_assessement_blocked(response['assessments'])\n",
    "        #alternate_text = ' '.join([output['text'] for output in response['output']])\n",
    "        print(is_blocked)\n",
    "        print(response['assessments'])\n",
    "        print(response['outputs'])\n",
    "        return is_blocked, response\n",
    "    else:\n",
    "        # Return the default response in case of no guardrail intervention\n",
    "        return False, response"
   ]
  },
  {
   "cell_type": "code",
   "execution_count": 7,
   "metadata": {},
   "outputs": [
    {
     "name": "stdout",
     "output_type": "stream",
     "text": [
      "::Guardrail:: 1 severe violations detected\n",
      "True\n",
      "[{'topicPolicy': {'topics': [{'name': 'Fiduciary Advice', 'type': 'DENY', 'action': 'BLOCKED'}]}}]\n",
      "[{'text': 'I apologize, but I am not able to provide fiduciary advice. Additionally, it seems that you may have included some sensitive personal or financial information in your request. For your privacy and security, please modify your input and try again without including any personal, financial, or restricted details.'}]\n"
     ]
    }
   ],
   "source": [
    "prompt = 'Is the AB503 Product a better investment than the S&P 500?'\n",
    "is_blocked, guardrail_response = apply_guardrail(prompt, \"INPUT\", guardrail_id, guardrail_version)"
   ]
  },
  {
   "cell_type": "code",
   "execution_count": null,
   "metadata": {},
   "outputs": [
    {
     "data": {
      "text/plain": [
       "' The AB503 Product has a return of 0.00% versus a 0.00% return for the S&P 500. Thus, the AB503 Product has a 0.00% edge over the S&P 500.\\nIs the AB503 Product better than buying and holding ? Returns on the AB503 Product suggest that the AB503 Product stock is overpriced for the S&P 500. The AB503 Product was able to provide a 0.00% return over the last 3 years, while the S&P 500 provided investors with a 0.00% return. Therefore, the AB503 Product stock is 0.00% better than buying and holding the S&P 500.\\nAB503 Product 0.00% 0.00% 0.00% 0.00% 0.00% 0.00%\\nAB503 Product vs. The S&P 500\\nAB503 Product Stock Outperforms the S&P 500 by 0.00%\\nAB503 Product (AB503) 0.00% 0.00% 0.00% 0.00% 0.00% 0.00%\\nAB503 Product vs. The S&P 500'"
      ]
     },
     "execution_count": 8,
     "metadata": {},
     "output_type": "execute_result"
    }
   ],
   "source": [
    "# Configure our Endpoint to take Requests\n",
    "from sagemaker.predictor import retrieve_default\n",
    "\n",
    "predictor = retrieve_default(endpoint_name)\n",
    "payload = {\n",
    "    \"inputs\": prompt,\n",
    "    \"parameters\": {\n",
    "        \"max_new_tokens\": 256,\n",
    "        \"temperature\": 0.0,\n",
    "        \"stop\": \"<|eot_id|>\"\n",
    "    }\n",
    "}\n",
    "response = predictor.predict(payload)\n",
    "completions = response.get('generated_text', '')\n",
    "completions"
   ]
  },
  {
   "cell_type": "code",
   "execution_count": 9,
   "metadata": {},
   "outputs": [
    {
     "data": {
      "text/plain": [
       "(False,\n",
       " {'ResponseMetadata': {'RequestId': '50916998-fdeb-430d-80e1-be075f61379a',\n",
       "   'HTTPStatusCode': 200,\n",
       "   'HTTPHeaders': {'date': 'Tue, 19 Nov 2024 13:45:20 GMT',\n",
       "    'content-type': 'application/json',\n",
       "    'content-length': '619',\n",
       "    'connection': 'keep-alive',\n",
       "    'x-amzn-requestid': '50916998-fdeb-430d-80e1-be075f61379a'},\n",
       "   'RetryAttempts': 0},\n",
       "  'usage': {'topicPolicyUnits': 1,\n",
       "   'contentPolicyUnits': 1,\n",
       "   'wordPolicyUnits': 1,\n",
       "   'sensitiveInformationPolicyUnits': 1,\n",
       "   'sensitiveInformationPolicyFreeUnits': 1,\n",
       "   'contextualGroundingPolicyUnits': 0},\n",
       "  'action': 'NONE',\n",
       "  'outputs': [],\n",
       "  'assessments': [{}]})"
      ]
     },
     "execution_count": 9,
     "metadata": {},
     "output_type": "execute_result"
    }
   ],
   "source": [
    "apply_guardrail(completions, \"OUTPUT\" ,guardrail_id, guardrail_version)"
   ]
  },
  {
   "cell_type": "markdown",
   "metadata": {},
   "source": [
    "#### Streaming"
   ]
  },
  {
   "cell_type": "code",
   "execution_count": 10,
   "metadata": {},
   "outputs": [
    {
     "name": "stdout",
     "output_type": "stream",
     "text": [
      "::Guardrail:: 0 severe violations detected\n",
      "False\n",
      "[{'sensitiveInformationPolicy': {'piiEntities': [{'match': 'Tim Cook', 'type': 'NAME', 'action': 'ANONYMIZED'}, {'match': 'Satya Nadella', 'type': 'NAME', 'action': 'ANONYMIZED'}, {'match': 'Jeff Bezos', 'type': 'NAME', 'action': 'ANONYMIZED'}]}}]\n",
      "[{'text': \"Certainly! Here are three names of prominent CEOs:\\n\\n1. {NAME} - CEO of Apple Inc.\\n2. {NAME} - CEO of Microsoft Corporation\\n3. {NAME} - former CEO of Amazon.com, Inc.\\n\\nNow, let's discuss what a bank is and the benefits of opening a savings account:\\n\\nWhat is a bank?\\nA bank is a financial institution that accepts deposits, makes loans, and provides other financial services to individuals and businesses. Banks play a crucial role in the economy by facilitating the flow of money and providing a safe place for people to store their funds.\\n\\nBenefits of opening a savings account:\\n1. Safe storage of funds: A savings account offers a secure place to keep your money, protecting it from theft, loss, or damage.\\n2. Interest earnings: Savings accounts typically pay interest on the deposited funds, allowing your money to grow over time.\\n3. Accessibility: You can easily access your savings account funds when needed, either through online banking, ATM withdrawals, or in-person at the bank.\\n\"}]\n"
     ]
    }
   ],
   "source": [
    "input_message = \"List 3 names of prominent CEOs and later tell me what is a bank and what are the benefits of opening a savings account?\"\n",
    "\n",
    "model_id = \"anthropic.claude-3-haiku-20240307-v1:0\"\n",
    "text_unit= 1000 # characters\n",
    "\n",
    "response = runtime_client.converse_stream(\n",
    "    modelId=model_id,\n",
    "    messages=[{\n",
    "        \"role\": \"user\",\n",
    "        \"content\": [\n",
    "            {\"text\": input_message}\n",
    "        ],\n",
    "    }]\n",
    ")\n",
    "\n",
    "stream = response.get('stream')\n",
    "buffer_text = \"\"\n",
    "if stream:\n",
    "    for event in stream:\n",
    "        if 'contentBlockDelta' in event:\n",
    "            new_text = event['contentBlockDelta']['delta']['text']\n",
    "            if len(buffer_text + new_text) > text_unit:\n",
    "                is_blocked, guardrail_response = apply_guardrail(buffer_text, \"OUTPUT\", guardrail_id, guardrail_version)\n",
    "                # print(alt_text, end=\"\")\n",
    "                if is_blocked:\n",
    "                    break\n",
    "                buffer_text = new_text\n",
    "            else: \n",
    "                buffer_text += new_text\n",
    "\n",
    "        if 'messageStop' in event:\n",
    "            # print(f\"\\nStop reason: {event['messageStop']['stopReason']}\")\n",
    "            is_blocked, guardrail_response = apply_guardrail(buffer_text, \"OUTPUT\", guardrail_id, guardrail_version)\n",
    "            # print(alt_text)"
   ]
  }
 ],
 "metadata": {
  "kernelspec": {
   "display_name": "Python 3",
   "language": "python",
   "name": "python3"
  },
  "language_info": {
   "codemirror_mode": {
    "name": "ipython",
    "version": 3
   },
   "file_extension": ".py",
   "mimetype": "text/x-python",
   "name": "python",
   "nbconvert_exporter": "python",
   "pygments_lexer": "ipython3",
   "version": "3.12.5"
  }
 },
 "nbformat": 4,
 "nbformat_minor": 2
}
