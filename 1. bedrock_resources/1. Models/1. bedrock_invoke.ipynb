{
 "cells": [
  {
   "cell_type": "code",
   "execution_count": 8,
   "metadata": {},
   "outputs": [],
   "source": [
    "import os\n",
    "from typing import Optional\n",
    "import sys\n",
    "import json\n",
    "\n",
    "# External Dependencies:\n",
    "import boto3\n",
    "from botocore.config import Config\n",
    "import botocore"
   ]
  },
  {
   "cell_type": "code",
   "execution_count": 9,
   "metadata": {},
   "outputs": [],
   "source": [
    "bedrock_runtime = boto3.client(service_name='bedrock')\n",
    "bedrock_runtime = boto3.client(service_name='bedrock-runtime')"
   ]
  },
  {
   "cell_type": "code",
   "execution_count": 10,
   "metadata": {},
   "outputs": [],
   "source": [
    "prompt_data = \"\"\"Command: Write me a blog about making strong business decisions as a leader.\n",
    "\n",
    "Blog:\n",
    "\"\"\""
   ]
  },
  {
   "cell_type": "code",
   "execution_count": 11,
   "metadata": {},
   "outputs": [],
   "source": [
    "message_list = [{\"role\": \"user\", \"content\": [{\"text\": prompt_data}]}]\n",
    "\n",
    "body = {\n",
    "    \"schemaVersion\": \"messages-v1\",\n",
    "    \"messages\": message_list,\n",
    "}\n",
    "\n",
    "modelId = \"us.amazon.nova-lite-v1:0\"\n",
    "accept = \"application/json\"\n",
    "contentType = \"application/json\""
   ]
  },
  {
   "cell_type": "code",
   "execution_count": 12,
   "metadata": {},
   "outputs": [
    {
     "name": "stdout",
     "output_type": "stream",
     "text": [
      "**Making Strong Business Decisions as a Leader**\n",
      "\n",
      "In the fast-paced world of business, making strong decisions is a cornerstone of effective leadership. As a leader, your decisions can significantly impact your team, your organization, and your bottom line. Here are some key strategies to help you make strong business decisions that drive success.\n",
      "\n",
      "### 1. Gather Comprehensive Information\n",
      "\n",
      "**Knowledge is Power**\n",
      "\n",
      "Before making any decision, it's crucial to gather all relevant information. This includes market data, financial reports, customer feedback, and insights from your team. The more informed you are, the better equipped you'll be to make a sound decision.\n",
      "\n",
      "**Action Steps:**\n",
      "- Conduct thorough market research.\n",
      "- Review financial statements and performance metrics.\n",
      "- Solicit input from stakeholders and team members.\n",
      "\n",
      "### 2. Analyze and Evaluate Options\n",
      "\n",
      "**Weighing the Pros and Cons**\n",
      "\n",
      "Once you have all the information, it's time to analyze your options. Consider the potential outcomes, risks, and benefits of each decision. Use tools like SWOT analysis (Strengths, Weaknesses, Opportunities, Threats) to evaluate your options systematically.\n",
      "\n",
      "**Action Steps:**\n",
      "- Create a list of potential solutions.\n",
      "- Use decision matrices to compare different options.\n",
      "- Consult with experts or mentors if necessary.\n",
      "\n",
      "### 3. Trust Your Instincts\n",
      "\n",
      "**The Role of Intuition**\n",
      "\n",
      "While data and analysis are vital, don't underestimate the power of your instincts. As a leader, you've likely developed a keen sense of what works and what doesn't. Trusting your intuition can be a valuable asset in decision-making.\n",
      "\n",
      "**Action Steps:**\n",
      "- Reflect on past experiences and lessons learned.\n",
      "- Consider your gut feelings and instincts.\n",
      "- Balance intuition with data-driven analysis.\n",
      "\n",
      "### 4. Consider the Long-Term Impact\n",
      "\n",
      "**Future-Focused Decisions**\n",
      "\n",
      "Strong business decisions are not just about immediate gains but also about long-term sustainability. Consider how your decision will impact your business in the future, including potential risks and opportunities.\n",
      "\n",
      "**Action Steps:**\n",
      "- Evaluate the long-term implications of each option.\n",
      "- Develop a strategic plan that aligns with your business goals.\n",
      "- Be prepared to adapt and pivot as needed.\n",
      "\n",
      "### 5. Foster a Collaborative Decision-Making Culture\n",
      "\n",
      "**Empowering Your Team**\n",
      "\n",
      "Encourage your team to be part of the decision-making process. A collaborative approach can lead to more innovative solutions and buy-in from your team. It also helps to distribute the responsibility and accountability for decisions.\n",
      "\n",
      "**Action Steps:**\n",
      "- Involve key team members in the decision-making process.\n",
      "- Encourage open and honest communication.\n",
      "- Create a culture of trust and transparency.\n",
      "\n",
      "### 6. Be Decisive and Confident\n",
      "\n",
      "**Taking Charge**\n",
      "\n",
      "Indecision can be paralyzing. As a leader, it's important to be decisive and confident in your choices. Once you've made a decision, commit to it and take action. Hesitation can lead to missed opportunities and erode trust.\n",
      "\n",
      "**Action Steps:**\n",
      "- Set clear deadlines for decision-making.\n",
      "- Avoid overthinking and second-guessing.\n",
      "- Communicate your decision clearly and confidently.\n",
      "\n",
      "### 7. Learn from Every Decision\n",
      "\n",
      "**Continuous Improvement**\n",
      "\n",
      "Every decision, whether successful or not, is an opportunity to learn and grow. After implementing a decision, review its outcomes and gather feedback. Use this information to refine your decision-making process for the future.\n",
      "\n",
      "**Action Steps:**\n",
      "- Conduct post-decision reviews to assess outcomes.\n",
      "- Gather feedback from stakeholders and team members.\n",
      "- Identify lessons learned and areas for improvement.\n",
      "\n",
      "### Conclusion\n",
      "\n",
      "Making strong business decisions as a leader requires a blend of data-driven analysis, intuition, and collaboration. By gathering comprehensive information, evaluating options, and considering long-term impacts, you can make informed decisions that drive your business forward. Remember to trust your instincts, foster a collaborative culture, and learn from every experience. With these strategies, you'll be well-equipped to lead your team to success.\n"
     ]
    }
   ],
   "source": [
    "response = bedrock_runtime.invoke_model(\n",
    "    body=json.dumps(body), \n",
    "    modelId=modelId, \n",
    "    accept=accept, \n",
    "    contentType=contentType\n",
    ")\n",
    "\n",
    "response_body = json.loads(response.get(\"body\").read())\n",
    "\n",
    "print(response_body.get(\"output\").get(\"message\").get(\"content\")[0].get(\"text\"))"
   ]
  },
  {
   "cell_type": "code",
   "execution_count": 13,
   "metadata": {},
   "outputs": [],
   "source": [
    "modelId = \"anthropic.claude-3-5-sonnet-20240620-v1:0\"  # change this to use a different version from the model provider\n",
    "\n",
    "messages = [{\"role\": \"user\", \"content\": prompt_data}]\n",
    "\n",
    "body={\n",
    "        \"anthropic_version\": \"bedrock-2023-05-31\",\n",
    "        \"max_tokens\": 250,\n",
    "        \"messages\": messages\n",
    "    }\n",
    "\n",
    "response = bedrock_runtime.invoke_model(\n",
    "    body=json.dumps(body), \n",
    "    modelId=modelId, \n",
    "    accept=accept, \n",
    "    contentType=contentType\n",
    ")"
   ]
  },
  {
   "cell_type": "code",
   "execution_count": 15,
   "metadata": {},
   "outputs": [
    {
     "name": "stdout",
     "output_type": "stream",
     "text": [
      "Here's a blog post about making strong business decisions as a leader:\n",
      "\n",
      "Making Strong Business Decisions: A Leader's Guide\n",
      "\n",
      "As a business leader, your ability to make sound decisions can make or break your company's success. The weight of responsibility can be daunting, but with the right approach, you can consistently make strong choices that drive your organization forward. Here are key strategies for making powerful business decisions:\n",
      "\n",
      "1. Gather and Analyze Data\n",
      "\n",
      "In today's data-driven world, gut feelings alone won't cut it. Successful leaders base their decisions on solid information. Collect relevant data from various sources – market research, financial reports, customer feedback, and industry trends. Then, analyze this data thoroughly to identify patterns and insights that can inform your decision-making process.\n",
      "\n",
      "2. Consider Multiple Perspectives\n",
      "\n",
      "Don't operate in a vacuum. Seek input from team members, advisors, and stakeholders. Their diverse viewpoints can highlight blind spots and offer fresh ideas. Remember, though, that while it's important to listen to others, the final decision rests with you.\n",
      "\n",
      "3. Align with Your Vision and Values\n",
      "\n",
      "Every major decision should align with your company's long-term vision an\n"
     ]
    }
   ],
   "source": [
    "response_body = json.loads(response.get(\"body\").read())\n",
    "\n",
    "print(response_body.get(\"content\")[0].get(\"text\"))"
   ]
  }
 ],
 "metadata": {
  "kernelspec": {
   "display_name": "Python 3",
   "language": "python",
   "name": "python3"
  },
  "language_info": {
   "codemirror_mode": {
    "name": "ipython",
    "version": 3
   },
   "file_extension": ".py",
   "mimetype": "text/x-python",
   "name": "python",
   "nbconvert_exporter": "python",
   "pygments_lexer": "ipython3",
   "version": "3.12.5"
  }
 },
 "nbformat": 4,
 "nbformat_minor": 2
}
