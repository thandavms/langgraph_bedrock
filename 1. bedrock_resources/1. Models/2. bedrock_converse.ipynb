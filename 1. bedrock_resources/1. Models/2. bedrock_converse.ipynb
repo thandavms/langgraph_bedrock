{
 "cells": [
  {
   "cell_type": "code",
   "execution_count": 1,
   "metadata": {},
   "outputs": [],
   "source": [
    "import boto3\n",
    "import sys"
   ]
  },
  {
   "cell_type": "code",
   "execution_count": 5,
   "metadata": {},
   "outputs": [],
   "source": [
    "region = 'us-east-1'\n",
    "bedrock_runtime = boto3.client(service_name = 'bedrock-runtime',region_name = region,)\n",
    "\n",
    "nova_pro = \"us.amazon.nova-pro-v1:0\"\n",
    "sonnet35 = \"us.anthropic.claude-3-5-sonnet-20240620-v1:0\""
   ]
  },
  {
   "cell_type": "code",
   "execution_count": 11,
   "metadata": {},
   "outputs": [],
   "source": [
    "max_tokens=2000\n",
    "temperature=0\n",
    "top_p=0.9\n",
    "prompt = \"What is the capital of Italy?\""
   ]
  },
  {
   "cell_type": "code",
   "execution_count": 12,
   "metadata": {},
   "outputs": [
    {
     "name": "stdout",
     "output_type": "stream",
     "text": [
      "The capital of Italy is Rome. Rome is not only the capital city but also a special comune (municipality) called Comune di Roma Capitale. It is located in the central-western portion of the Italian Peninsula, on the Tiber River.\n",
      "\n",
      "Rome has a history spanning more than two and a half thousand years. It was the center of the Roman Kingdom, the Roman Republic, and the Roman Empire, which dominated Western Europe, North Africa, and the Mediterranean for centuries. Even after the fall of the Western Roman Empire, Rome remained an important religious and cultural center, largely due to the influence of the Vatican and the Roman Catholic Church.\n",
      "\n",
      "Today, Rome is the third most visited city in the European Union, after London and Paris, and receives an average of 10 million tourists a year, which sometimes swells to 20 million. The city has a rich history, art, culture, and architecture, with famous landmarks such as the Colosseum, the Pantheon, and the Vatican City, an independent city-state and the holy see of the Catholic Church.\n",
      "\n",
      "Rome is also known for its cuisine, such as Roman pizza, pasta, and gelato, and its fashion industry. The city is home to several prestigious universities, research institutions, and academies, making it a center for education and intellectual discussion. Rome's historic center is listed by UNESCO as a World Heritage Site, and the city is known for its stunning architecture, which includes medieval churches and Renaissance and Baroque palaces.\n"
     ]
    }
   ],
   "source": [
    "response = bedrock_runtime.converse(\n",
    "            modelId=nova_pro,\n",
    "            messages=[\n",
    "                {\n",
    "                    \"role\": \"user\",\n",
    "                    \"content\": [\n",
    "                        {\n",
    "                            \"text\": prompt\n",
    "                        }\n",
    "                    ]\n",
    "                }\n",
    "            ],\n",
    "            inferenceConfig={\n",
    "                \"temperature\": temperature,\n",
    "                \"maxTokens\": max_tokens,\n",
    "                \"topP\": top_p\n",
    "            }\n",
    "        )\n",
    "\n",
    "result = response['output']['message']['content'][0]['text']\n",
    "print(result)"
   ]
  },
  {
   "cell_type": "code",
   "execution_count": 13,
   "metadata": {},
   "outputs": [
    {
     "name": "stdout",
     "output_type": "stream",
     "text": [
      "The capital of Italy is Rome.\n",
      "\n",
      "Rome, also known as Roma in Italian, is not only the capital city but also the largest city in Italy. It's located in the central-western portion of the Italian peninsula, within the Lazio region of Italy.\n",
      "\n",
      "Some key facts about Rome:\n",
      "\n",
      "1. It has a rich history spanning over 2,500 years.\n",
      "2. It's often called the \"Eternal City.\"\n",
      "3. It's the seat of the Italian government.\n",
      "4. Vatican City, an independent city-state and the headquarters of the Roman Catholic Church, is located entirely within Rome.\n",
      "5. Rome is renowned for its historic architecture, art, and cultural heritage, including famous landmarks like the Colosseum, the Pantheon, and the Roman Forum.\n",
      "\n",
      "Rome has been the capital of Italy since 1871, shortly after the country's unification.\n"
     ]
    }
   ],
   "source": [
    "response = bedrock_runtime.converse(\n",
    "            modelId=sonnet35,\n",
    "            messages=[\n",
    "                {\n",
    "                    \"role\": \"user\",\n",
    "                    \"content\": [\n",
    "                        {\n",
    "                            \"text\": prompt\n",
    "                        }\n",
    "                    ]\n",
    "                }\n",
    "            ],\n",
    "            inferenceConfig={\n",
    "                \"temperature\": temperature,\n",
    "                \"maxTokens\": max_tokens,\n",
    "                \"topP\": top_p\n",
    "            }\n",
    "        )\n",
    "\n",
    "result = response['output']['message']['content'][0]['text']\n",
    "print(result)"
   ]
  },
  {
   "cell_type": "code",
   "execution_count": 14,
   "metadata": {},
   "outputs": [
    {
     "name": "stdout",
     "output_type": "stream",
     "text": [
      "The capital of Italy is Rome.\n",
      "\n",
      "Rome, also known as Roma in Italian, is not only the capital city but also the largest city in Italy. It has a rich history spanning over 2,500 years and is often referred to as the \"Eternal City.\" Some key facts about Rome include:\n",
      "\n",
      "1. It's located in the central-western part of the Italian peninsula.\n",
      "\n",
      "2. It serves as the seat of the Italian government and is home to many important political and cultural institutions.\n",
      "\n",
      "3. Vatican City, an independent city-state and the headquarters of the Roman Catholic Church, is located entirely within Rome.\n",
      "\n",
      "4. Rome is renowned for its ancient ruins, art, architecture, and historical significance, including landmarks such as the Colosseum, the Pantheon, and the Roman Forum.\n",
      "\n",
      "5. It has been the capital of Italy since 1871, after the country's unification.\n",
      "\n",
      "Rome is a major tourist destination and plays a significant role in Italy's economy, culture, and politics."
     ]
    }
   ],
   "source": [
    "response = \"\"\n",
    "\n",
    "response = bedrock_runtime.converse_stream(\n",
    "    modelId=sonnet35,\n",
    "    messages=[\n",
    "        {\n",
    "            \"role\": \"user\",\n",
    "            \"content\": [\n",
    "                {\n",
    "                    \"text\": prompt\n",
    "                }\n",
    "            ]\n",
    "        }\n",
    "    ],\n",
    "    inferenceConfig={\n",
    "        \"temperature\": temperature,\n",
    "        \"maxTokens\": max_tokens,\n",
    "        \"topP\": top_p\n",
    "    }\n",
    ")\n",
    "# Extract and print the response text in real-time.\n",
    "for event in response['stream']:\n",
    "    if 'contentBlockDelta' in event:\n",
    "        chunk = event['contentBlockDelta']\n",
    "        sys.stdout.write(chunk['delta']['text'])\n",
    "        sys.stdout.flush()"
   ]
  }
 ],
 "metadata": {
  "kernelspec": {
   "display_name": "Python 3",
   "language": "python",
   "name": "python3"
  },
  "language_info": {
   "codemirror_mode": {
    "name": "ipython",
    "version": 3
   },
   "file_extension": ".py",
   "mimetype": "text/x-python",
   "name": "python",
   "nbconvert_exporter": "python",
   "pygments_lexer": "ipython3",
   "version": "3.12.5"
  }
 },
 "nbformat": 4,
 "nbformat_minor": 2
}
