{
 "cells": [
  {
   "cell_type": "markdown",
   "metadata": {},
   "source": [
    "## ReWOO Agent"
   ]
  },
  {
   "cell_type": "markdown",
   "metadata": {},
   "source": [
    "##### Load the environment variables"
   ]
  },
  {
   "cell_type": "code",
   "execution_count": null,
   "metadata": {},
   "outputs": [],
   "source": [
    "from dotenv import load_dotenv\n",
    "import os\n",
    "\n",
    "load_dotenv()\n",
    "tavily_api_key = os.getenv('TAVILY_API_KEY')\n",
    "model_id = os.getenv('MODEL_ID')\n",
    "aws_region = os.getenv('AWS_REGION')\n",
    "bedrock_kb_id = os.getenv('BEDROCK_KB_ID')"
   ]
  },
  {
   "cell_type": "markdown",
   "metadata": {},
   "source": [
    "##### Model"
   ]
  },
  {
   "cell_type": "code",
   "execution_count": null,
   "metadata": {},
   "outputs": [],
   "source": [
    "from langchain_aws import ChatBedrock\n",
    "model = ChatBedrock(model=model_id)"
   ]
  },
  {
   "cell_type": "markdown",
   "metadata": {},
   "source": [
    "##### State"
   ]
  },
  {
   "cell_type": "code",
   "execution_count": 27,
   "metadata": {},
   "outputs": [],
   "source": [
    "from typing import List\n",
    "from typing_extensions import TypedDict\n",
    "\n",
    "class ReWOO(TypedDict):\n",
    "    task: str\n",
    "    plan_string: str\n",
    "    steps: List\n",
    "    results: dict\n",
    "    result: str\n"
   ]
  },
  {
   "cell_type": "code",
   "execution_count": 28,
   "metadata": {},
   "outputs": [],
   "source": [
    "prompt = \"\"\"For the following task, make plans that can solve the problem step by step. For each plan, indicate \\\n",
    "which external tool together with tool input to retrieve evidence. You can store the evidence into a \\\n",
    "variable #E that can be called by later tools. (Plan, #E1, Plan, #E2, Plan, ...)\n",
    "\n",
    "Tools can be one of the following:\n",
    "(1) Google[input]: Worker that searches results from Google. Useful when you need to find short\n",
    "and succinct answers about a specific topic. The input should be a search query.\n",
    "(2) LLM[input]: A pretrained LLM like yourself. Useful when you need to act with general\n",
    "world knowledge and common sense. Prioritize it when you are confident in solving the problem\n",
    "yourself. Input can be any instruction.\n",
    "\n",
    "For example,\n",
    "Task: Thomas, Toby, and Rebecca worked a total of 157 hours in one week. Thomas worked x\n",
    "hours. Toby worked 10 hours less than twice what Thomas worked, and Rebecca worked 8 hours\n",
    "less than Toby. How many hours did Rebecca work?\n",
    "Plan: Given Thomas worked x hours, translate the problem into algebraic expressions and solve\n",
    "with Wolfram Alpha. #E1 = WolframAlpha[Solve x + (2x − 10) + ((2x − 10) − 8) = 157]\n",
    "Plan: Find out the number of hours Thomas worked. #E2 = LLM[What is x, given #E1]\n",
    "Plan: Calculate the number of hours Rebecca worked. #E3 = Calculator[(2 ∗ #E2 − 10) − 8]\n",
    "\n",
    "Begin! \n",
    "Describe your plans with rich details. Each Plan should be followed by only one #E.\n",
    "\n",
    "Task: {task}\"\"\""
   ]
  },
  {
   "cell_type": "code",
   "execution_count": 29,
   "metadata": {},
   "outputs": [],
   "source": [
    "import re\n",
    "\n",
    "from langchain_core.prompts import ChatPromptTemplate\n",
    "\n",
    "def get_plan(state: ReWOO):\n",
    "    task = state[\"task\"]\n",
    "\n",
    "    prompt_template = ChatPromptTemplate.from_messages([(\"user\", prompt)])\n",
    "    planner = prompt_template | model\n",
    "\n",
    "    result = planner.invoke({\"task\": task})\n",
    "    \n",
    "    # Find all matches in the sample text\n",
    "    # Regex to match expressions of the form E#... = ...[...]\n",
    "    regex_pattern = r\"Plan:\\s*(.+)\\s*(#E\\d+)\\s*=\\s*(\\w+)\\s*\\[([^\\]]+)\\]\"\n",
    "    matches = re.findall(regex_pattern, result.content)\n",
    "\n",
    "    #return matches\n",
    "    return {\"steps\": matches, \"plan_string\": result.content}"
   ]
  },
  {
   "cell_type": "code",
   "execution_count": 30,
   "metadata": {},
   "outputs": [],
   "source": [
    "def _get_current_task(state: ReWOO):\n",
    "    if \"results\" not in state or state[\"results\"] is None:\n",
    "        return 1\n",
    "    if len(state[\"results\"]) == len(state[\"steps\"]):\n",
    "        return None\n",
    "    else:\n",
    "        return len(state[\"results\"]) + 1"
   ]
  },
  {
   "cell_type": "code",
   "execution_count": null,
   "metadata": {},
   "outputs": [],
   "source": [
    "from langchain_community.tools.tavily_search import TavilySearchResults\n",
    "import os\n",
    "search = TavilySearchResults()\n",
    "\n",
    "def tool_execution(state: ReWOO):\n",
    "    \"\"\"Worker node that executes the tools of a given plan.\"\"\"\n",
    "    _step = _get_current_task(state)\n",
    "    _, step_name, tool, tool_input = state[\"steps\"][_step - 1]\n",
    "    _results = (state[\"results\"] or {}) if \"results\" in state else {}\n",
    "    for k, v in _results.items():\n",
    "        tool_input = tool_input.replace(k, v)\n",
    "    if tool == \"Google\":\n",
    "        result = search.invoke(tool_input)\n",
    "    elif tool == \"LLM\":\n",
    "        result = model.invoke(tool_input)\n",
    "    else:\n",
    "        raise ValueError\n",
    "    _results[step_name] = str(result)\n",
    "    return {\"results\": _results}"
   ]
  },
  {
   "cell_type": "code",
   "execution_count": 32,
   "metadata": {},
   "outputs": [],
   "source": [
    "solve_prompt = \"\"\"Solve the following task or problem. To solve the problem, we have made step-by-step Plan and \\\n",
    "retrieved corresponding Evidence to each Plan. Use them with caution since long evidence might \\\n",
    "contain irrelevant information.\n",
    "\n",
    "{plan}\n",
    "\n",
    "Now solve the question or task according to provided Evidence above. Respond with the answer\n",
    "directly with no extra words.\n",
    "\n",
    "Task: {task}\n",
    "Response:\"\"\"\n",
    "\n",
    "\n",
    "def solve(state: ReWOO):\n",
    "    plan = \"\"\n",
    "    \n",
    "    for _plan, step_name, tool, tool_input in state[\"steps\"]:\n",
    "        _results = (state[\"results\"] or {}) if \"results\" in state else {}\n",
    "        for k, v in _results.items():\n",
    "            tool_input = tool_input.replace(k, v)\n",
    "            step_name = step_name.replace(k, v)\n",
    "        plan += f\"Plan: {_plan}\\n{step_name} = {tool}[{tool_input}]\"\n",
    "\n",
    "    prompt = solve_prompt.format(plan=plan, task=state[\"task\"])\n",
    "    result = model.invoke(prompt)\n",
    "    return {\"result\": result.content}"
   ]
  },
  {
   "cell_type": "code",
   "execution_count": 33,
   "metadata": {},
   "outputs": [],
   "source": [
    "def _route(state):\n",
    "    _step = _get_current_task(state)\n",
    "    if _step is None:\n",
    "        # We have executed all tasks\n",
    "        return \"solve\"\n",
    "    else:\n",
    "        # We are still executing tasks, loop back to the \"tool\" node\n",
    "        return \"tool\""
   ]
  },
  {
   "cell_type": "code",
   "execution_count": 34,
   "metadata": {},
   "outputs": [],
   "source": [
    "from langgraph.graph import END, StateGraph, START\n",
    "\n",
    "graph = StateGraph(ReWOO)\n",
    "graph.add_node(\"plan\", get_plan)\n",
    "graph.add_node(\"tool\", tool_execution)\n",
    "graph.add_node(\"solve\", solve)\n",
    "\n",
    "graph.add_edge(\"plan\", \"tool\")\n",
    "graph.add_edge(\"solve\", END)\n",
    "graph.add_conditional_edges(\"tool\", _route)\n",
    "graph.add_edge(START, \"plan\")\n",
    "\n",
    "app = graph.compile()"
   ]
  },
  {
   "cell_type": "code",
   "execution_count": 35,
   "metadata": {},
   "outputs": [
    {
     "data": {
      "image/png": "[encoded data removed]",
      "text/plain": [
       "<IPython.core.display.Image object>"
      ]
     },
     "metadata": {},
     "output_type": "display_data"
    }
   ],
   "source": [
    "from IPython.display import Image, display\n",
    "display(Image(app.get_graph().draw_mermaid_png()))"
   ]
  },
  {
   "cell_type": "code",
   "execution_count": 36,
   "metadata": {},
   "outputs": [
    {
     "name": "stdout",
     "output_type": "stream",
     "text": [
      "{'plan': {'steps': [(\"First, I need to find out who won the 2024 Australian Open men's singles title.\", '#E1', 'Google', '\"who won 2024 australian open mens singles\"'), ('Once I know the winner, I need to find their specific hometown (not just country, but the actual city/town they were born in).', '#E2', 'Google', '\"Jannik Sinner birthplace hometown where was he born\"'), ('To ensure accuracy and get confirmation about the exact hometown details.', '#E3', 'LLM', 'Using #E1 and #E2, please confirm the exact hometown of Jannik Sinner. Be specific about the locality and region.'), ('If needed, verify any discrepancy in hometown information with an additional search targeting local/Italian sources.', '#E4', 'Google', '\"dove è nato Jannik Sinner luogo di nascita esatto\"')], 'plan_string': 'Let me break this down step by step:\\n\\nPlan: First, I need to find out who won the 2024 Australian Open men\\'s singles title.\\n#E1 = Google[\"who won 2024 australian open mens singles\"]\\n\\nPlan: Once I know the winner, I need to find their specific hometown (not just country, but the actual city/town they were born in).\\n#E2 = Google[\"Jannik Sinner birthplace hometown where was he born\"]\\n\\nPlan: To ensure accuracy and get confirmation about the exact hometown details.\\n#E3 = LLM[Using #E1 and #E2, please confirm the exact hometown of Jannik Sinner. Be specific about the locality and region.]\\n\\nPlan: If needed, verify any discrepancy in hometown information with an additional search targeting local/Italian sources.\\n#E4 = Google[\"dove è nato Jannik Sinner luogo di nascita esatto\"]\\n\\nThis sequenced approach helps us get increasingly specific information, starting with identifying the winner and then drilling down to their exact hometown details. The use of Italian search terms in the last step (if needed) helps verify the information from local sources.'}}\n",
      "---\n",
      "{'tool': {'results': {'#E1': '[{\\'url\\': \\'http://www.google.com/search?hl=en&q=\"who+won+2024+australian+open+mens+singles\"\\', \\'content\\': \\'\\'}]'}}}\n",
      "---\n",
      "{'tool': {'results': {'#E1': '[{\\'url\\': \\'http://www.google.com/search?hl=en&q=\"who+won+2024+australian+open+mens+singles\"\\', \\'content\\': \\'\\'}]', '#E2': '[{\\'url\\': \\'http://www.google.com/search?hl=en&q=\"Jannik+Sinner+birthplace+hometown+where+was+he+born\"\\', \\'content\\': \\'\\'}]'}}}\n",
      "---\n",
      "{'tool': {'results': {'#E1': '[{\\'url\\': \\'http://www.google.com/search?hl=en&q=\"who+won+2024+australian+open+mens+singles\"\\', \\'content\\': \\'\\'}]', '#E2': '[{\\'url\\': \\'http://www.google.com/search?hl=en&q=\"Jannik+Sinner+birthplace+hometown+where+was+he+born\"\\', \\'content\\': \\'\\'}]', '#E3': 'content=\"I apologize, but I cannot definitively confirm Jannik Sinner\\'s exact hometown from the provided search links alone, as they appear to be empty search queries without any actual content. While Jannik Sinner is from Italy\\'s South Tyrol region, to provide his specific hometown I would need verified sources with that information.\" additional_kwargs={\\'usage\\': {\\'prompt_tokens\\': 128, \\'completion_tokens\\': 73, \\'total_tokens\\': 201}, \\'stop_reason\\': \\'end_turn\\', \\'model_id\\': \\'us.anthropic.claude-3-5-sonnet-20241022-v2:0\\'} response_metadata={\\'usage\\': {\\'prompt_tokens\\': 128, \\'completion_tokens\\': 73, \\'total_tokens\\': 201}, \\'stop_reason\\': \\'end_turn\\', \\'model_id\\': \\'us.anthropic.claude-3-5-sonnet-20241022-v2:0\\'} id=\\'run-ca7ed030-6ced-4a87-a73a-7a7d90461aaa-0\\' usage_metadata={\\'input_tokens\\': 128, \\'output_tokens\\': 73, \\'total_tokens\\': 201}'}}}\n",
      "---\n",
      "{'tool': {'results': {'#E1': '[{\\'url\\': \\'http://www.google.com/search?hl=en&q=\"who+won+2024+australian+open+mens+singles\"\\', \\'content\\': \\'\\'}]', '#E2': '[{\\'url\\': \\'http://www.google.com/search?hl=en&q=\"Jannik+Sinner+birthplace+hometown+where+was+he+born\"\\', \\'content\\': \\'\\'}]', '#E3': 'content=\"I apologize, but I cannot definitively confirm Jannik Sinner\\'s exact hometown from the provided search links alone, as they appear to be empty search queries without any actual content. While Jannik Sinner is from Italy\\'s South Tyrol region, to provide his specific hometown I would need verified sources with that information.\" additional_kwargs={\\'usage\\': {\\'prompt_tokens\\': 128, \\'completion_tokens\\': 73, \\'total_tokens\\': 201}, \\'stop_reason\\': \\'end_turn\\', \\'model_id\\': \\'us.anthropic.claude-3-5-sonnet-20241022-v2:0\\'} response_metadata={\\'usage\\': {\\'prompt_tokens\\': 128, \\'completion_tokens\\': 73, \\'total_tokens\\': 201}, \\'stop_reason\\': \\'end_turn\\', \\'model_id\\': \\'us.anthropic.claude-3-5-sonnet-20241022-v2:0\\'} id=\\'run-ca7ed030-6ced-4a87-a73a-7a7d90461aaa-0\\' usage_metadata={\\'input_tokens\\': 128, \\'output_tokens\\': 73, \\'total_tokens\\': 201}', '#E4': '[{\\'url\\': \\'http://www.google.com/search?hl=en&q=\"dove+è+nato+Jannik+Sinner+luogo+di+nascita+esatto\"\\', \\'content\\': \\'\\'}]'}}}\n",
      "---\n",
      "{'solve': {'result': 'San Candido (Innichen), South Tyrol, Italy'}}\n",
      "---\n"
     ]
    }
   ],
   "source": [
    "task = \"what is the exact hometown of the 2024 mens australian open winner\"\n",
    "for s in app.stream({\"task\": task}):\n",
    "    print(s)\n",
    "    print(\"---\")"
   ]
  }
 ],
 "metadata": {
  "kernelspec": {
   "display_name": "Python 3",
   "language": "python",
   "name": "python3"
  },
  "language_info": {
   "codemirror_mode": {
    "name": "ipython",
    "version": 3
   },
   "file_extension": ".py",
   "mimetype": "text/x-python",
   "name": "python",
   "nbconvert_exporter": "python",
   "pygments_lexer": "ipython3",
   "version": "3.12.5"
  }
 },
 "nbformat": 4,
 "nbformat_minor": 2
}
