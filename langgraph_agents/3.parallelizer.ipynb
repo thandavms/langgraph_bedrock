{
 "cells": [
  {
   "cell_type": "markdown",
   "metadata": {},
   "source": [
    "## Parallelization"
   ]
  },
  {
   "cell_type": "markdown",
   "metadata": {},
   "source": [
    "##### Load the environment Variables"
   ]
  },
  {
   "cell_type": "code",
   "execution_count": null,
   "metadata": {},
   "outputs": [],
   "source": [
    "from dotenv import load_dotenv\n",
    "import os\n",
    "\n",
    "load_dotenv()\n",
    "tavily_api_key = os.getenv('TAVILY_API_KEY')\n",
    "model_id = os.getenv('MODEL_ID')\n",
    "aws_region = os.getenv('AWS_REGION')\n",
    "bedrock_kb_id = os.getenv('BEDROCK_KB_ID')"
   ]
  },
  {
   "cell_type": "markdown",
   "metadata": {},
   "source": [
    "##### Model"
   ]
  },
  {
   "cell_type": "code",
   "execution_count": null,
   "metadata": {},
   "outputs": [],
   "source": [
    "## Model - Agent Brain\n",
    "from langchain_aws import ChatBedrock\n",
    "llm = ChatBedrock(model=model_id)"
   ]
  },
  {
   "cell_type": "markdown",
   "metadata": {},
   "source": [
    "##### State - The schema of the State will be the input schema to all Nodes and Edges in the graph"
   ]
  },
  {
   "cell_type": "code",
   "execution_count": null,
   "metadata": {},
   "outputs": [],
   "source": [
    "## Graph State\n",
    "from typing import TypedDict\n",
    "\n",
    "class State(TypedDict):\n",
    "    query: str\n",
    "    web_search: str\n",
    "    kb_search: str\n",
    "    final_answer: str"
   ]
  },
  {
   "cell_type": "markdown",
   "metadata": {},
   "source": [
    "##### Tools [Tool 1 - Web Search Tool]"
   ]
  },
  {
   "cell_type": "code",
   "execution_count": null,
   "metadata": {},
   "outputs": [],
   "source": [
    "import os\n",
    "from langchain_community.tools.tavily_search import TavilySearchResults\n",
    "\n",
    "def search_web(state: State):\n",
    "    print(\"SEARCHING WEB\")\n",
    "    search_tool = TavilySearchResults(max_results=2)\n",
    "    web_results = search_tool.invoke(state[\"query\"])\n",
    "    return {\"web_search\": web_results}"
   ]
  },
  {
   "cell_type": "markdown",
   "metadata": {},
   "source": [
    "##### Tools [Tool 2 - Bedrock Knowledge Base]"
   ]
  },
  {
   "cell_type": "code",
   "execution_count": null,
   "metadata": {},
   "outputs": [],
   "source": [
    "import boto3\n",
    "def query_knowledge_base(state: State):\n",
    "    \"\"\"Query the knowledge base for information related to Agents and Agentic workflow\n",
    "    \n",
    "    Args:\n",
    "        query: The query string to search for\n",
    "    \"\"\"\n",
    "    bedrock_agent = boto3.client('bedrock-agent-runtime', region_name = 'us-east-1')\n",
    "    print(\"QUERYING KNOWLEDGE BASE\")\n",
    "\n",
    "    response = bedrock_agent.retrieve_and_generate(\n",
    "        input={\n",
    "            \"text\": state[\"query\"]  # Your query text goes here\n",
    "        },\n",
    "        retrieveAndGenerateConfiguration={\n",
    "            \"type\": \"KNOWLEDGE_BASE\",\n",
    "            \"knowledgeBaseConfiguration\": {\n",
    "                \"knowledgeBaseId\": bedrock_kb_id,\n",
    "                \"modelArn\": model_id,\n",
    "                \"retrievalConfiguration\": {\n",
    "                    \"vectorSearchConfiguration\": {\n",
    "                        \"numberOfResults\": 5\n",
    "                    }\n",
    "                }\n",
    "            }\n",
    "        }\n",
    "    )\n",
    "\n",
    "    kb_results = response['output']['text']\n",
    "    return {\"kb_search\" : kb_results}"
   ]
  },
  {
   "cell_type": "markdown",
   "metadata": {},
   "source": [
    "##### Toos [Tool 3 - Aggregator tool]"
   ]
  },
  {
   "cell_type": "code",
   "execution_count": null,
   "metadata": {},
   "outputs": [],
   "source": [
    "def aggregator(state: State):\n",
    "    print(\"AGGREGATING RESPONSE\")\n",
    "    prompt = f\"\"\" Your job is to summarize from the context provided to you.  the context includes information from web search: {state[\"web_search\"]} and information from database: {state[\"kb_search\"]}\"\"\"\n",
    "    final_answer = llm.invoke(prompt)           \n",
    "    return {\"final_answer\": final_answer.content}                                    "
   ]
  },
  {
   "cell_type": "markdown",
   "metadata": {},
   "source": [
    "##### Build the Graph"
   ]
  },
  {
   "cell_type": "code",
   "execution_count": null,
   "metadata": {},
   "outputs": [],
   "source": [
    "from langgraph.graph import StateGraph, START, END\n",
    "\n",
    "parallel_builder = StateGraph(State)\n",
    "\n",
    "# Add nodes\n",
    "parallel_builder.add_node(\"call_websearch\", search_web)\n",
    "parallel_builder.add_node(\"call_kb\", query_knowledge_base)\n",
    "parallel_builder.add_node(\"aggregator\", aggregator)\n",
    "\n",
    "parallel_builder.add_edge(START, \"call_websearch\")\n",
    "parallel_builder.add_edge(START, \"call_kb\")\n",
    "\n",
    "parallel_builder.add_edge(\"call_websearch\", \"aggregator\")\n",
    "parallel_builder.add_edge(\"call_kb\", \"aggregator\")\n",
    "\n",
    "parallel_builder.add_edge(\"aggregator\", END)\n"
   ]
  },
  {
   "cell_type": "markdown",
   "metadata": {},
   "source": [
    "##### Compile the Graph"
   ]
  },
  {
   "cell_type": "code",
   "execution_count": null,
   "metadata": {},
   "outputs": [],
   "source": [
    "agent = parallel_builder.compile()"
   ]
  },
  {
   "cell_type": "code",
   "execution_count": null,
   "metadata": {},
   "outputs": [],
   "source": [
    "import requests\n",
    "from IPython.display import Image, display\n",
    "\n",
    "requests.adapters.DEFAULT_TIMEOUT = 30  # Increase from default 10 seconds\n",
    "display(Image(agent.get_graph().draw_mermaid_png()))"
   ]
  },
  {
   "cell_type": "markdown",
   "metadata": {},
   "source": [
    "##### Run the agent"
   ]
  },
  {
   "cell_type": "code",
   "execution_count": null,
   "metadata": {},
   "outputs": [],
   "source": [
    "state = agent.invoke({\"query\": \"what are the ai agent types\"})\n",
    "print(state[\"final_answer\"])"
   ]
  }
 ],
 "metadata": {
  "kernelspec": {
   "display_name": "Python 3",
   "language": "python",
   "name": "python3"
  },
  "language_info": {
   "codemirror_mode": {
    "name": "ipython",
    "version": 3
   },
   "file_extension": ".py",
   "mimetype": "text/x-python",
   "name": "python",
   "nbconvert_exporter": "python",
   "pygments_lexer": "ipython3",
   "version": "3.12.5"
  }
 },
 "nbformat": 4,
 "nbformat_minor": 2
}
