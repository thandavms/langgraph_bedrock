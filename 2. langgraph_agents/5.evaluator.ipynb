{
 "cells": [
  {
   "cell_type": "markdown",
   "metadata": {},
   "source": [
    "## Evaluator Pattern"
   ]
  },
  {
   "cell_type": "markdown",
   "metadata": {},
   "source": [
    "##### Set up a Database"
   ]
  },
  {
   "cell_type": "code",
   "execution_count": null,
   "metadata": {},
   "outputs": [],
   "source": [
    "import sqlite3\n",
    "\n",
    "# Initialize SQLite connection to Chinook database\n",
    "def get_db_connection():\n",
    "    conn = sqlite3.connect(\"../data/chinook.db\")\n",
    "    conn.row_factory = sqlite3.Row\n",
    "    return conn\n",
    "\n",
    "\n",
    "# Function to get database schema info\n",
    "def get_db_schema():\n",
    "    conn = get_db_connection()\n",
    "    cursor = conn.cursor()\n",
    "    \n",
    "    # Get all tables\n",
    "    cursor.execute(\"SELECT name FROM sqlite_master WHERE type='table';\")\n",
    "    tables = cursor.fetchall()\n",
    "    \n",
    "    schema_info = []\n",
    "    for table in tables:\n",
    "        table_name = table[0]\n",
    "        cursor.execute(f\"PRAGMA table_info({table_name});\")\n",
    "        columns = cursor.fetchall()\n",
    "        \n",
    "        cols = [f\"{col['name']} ({col['type']})\" for col in columns]\n",
    "        schema_info.append(f\"Table: {table_name}\\nColumns: {', '.join(cols)}\")\n",
    "    \n",
    "    # Get some sample data and foreign keys for better understanding\n",
    "    for table in tables:\n",
    "        table_name = table[0]\n",
    "        cursor.execute(f\"PRAGMA foreign_key_list({table_name});\")\n",
    "        foreign_keys = cursor.fetchall()\n",
    "        if foreign_keys:\n",
    "            fk_info = [f\"Foreign Key: {fk['from']} references {fk['table']}.{fk['to']}\" for fk in foreign_keys]\n",
    "            schema_info.append(f\"Foreign Keys for {table_name}:\\n\" + \"\\n\".join(fk_info))\n",
    "    \n",
    "    conn.close()\n",
    "    return \"\\n\".join(schema_info)"
   ]
  },
  {
   "cell_type": "markdown",
   "metadata": {},
   "source": [
    "##### Get the Environment variables"
   ]
  },
  {
   "cell_type": "code",
   "execution_count": null,
   "metadata": {},
   "outputs": [],
   "source": [
    "from dotenv import load_dotenv\n",
    "import os\n",
    "\n",
    "load_dotenv()\n",
    "tavily_api_key = os.getenv('TAVILY_API_KEY')\n",
    "model_id = os.getenv('MODEL_ID')\n",
    "aws_region = os.getenv('AWS_REGION')\n",
    "bedrock_kb_id = os.getenv('BEDROCK_KB_ID')"
   ]
  },
  {
   "cell_type": "markdown",
   "metadata": {},
   "source": [
    "##### Model"
   ]
  },
  {
   "cell_type": "code",
   "execution_count": null,
   "metadata": {},
   "outputs": [],
   "source": [
    "## Model - Agent Brain\n",
    "from langchain_aws import ChatBedrock\n",
    "llm = ChatBedrock(model=model_id)"
   ]
  },
  {
   "cell_type": "markdown",
   "metadata": {},
   "source": [
    "##### State - The schema of the State will be the input schema to all Nodes and Edges in the graph"
   ]
  },
  {
   "cell_type": "code",
   "execution_count": 39,
   "metadata": {},
   "outputs": [],
   "source": [
    "# Graph state\n",
    "from typing import TypedDict\n",
    "from typing import Dict, List\n",
    "\n",
    "class State(TypedDict):\n",
    "    question: str\n",
    "    sql_query: str\n",
    "    feedback: str\n",
    "    optimized: str\n",
    "    results: List[Dict]"
   ]
  },
  {
   "cell_type": "markdown",
   "metadata": {},
   "source": [
    "##### Tools - Query Generator, Query Evaluator, Query Executor"
   ]
  },
  {
   "cell_type": "code",
   "execution_count": 40,
   "metadata": {},
   "outputs": [],
   "source": [
    "from textwrap import dedent\n",
    "\n",
    "# Nodes\n",
    "def query_generator(state: State):\n",
    "    print(\"QUERY GENERATOR\")\n",
    "\n",
    "    original_query = ''\n",
    "    feedback = ''\n",
    "    if \"sql_query\" in state:\n",
    "        original_query = state[\"sql_query\"]\n",
    "        feedback = state[\"feedback\"]\n",
    "\n",
    "    sql_creator_system_message = dedent(f\"\"\"\n",
    "        You are an expert SQL query optimizer who creates accurate, efficient SQL queries from natural language questions.\n",
    "        \n",
    "        DATABASE SCHEMA:\n",
    "        {get_db_schema()}\n",
    "        \n",
    "        Your goal is to create SQL correctly to answers the question:  {state['question']}\n",
    "        Consider:\n",
    "        - Previous generated query for optimiztion in {original_query}\n",
    "        - feedback on the previous query generation in {feedback}\n",
    "        \n",
    "        Return only the SQL query.\n",
    "        Do not include any other text in your response.\n",
    "\n",
    "  \n",
    "    \"\"\")\n",
    "\n",
    "\n",
    "    msg = llm.invoke(sql_creator_system_message)\n",
    "    return {\"sql_query\": msg.content}"
   ]
  },
  {
   "cell_type": "code",
   "execution_count": 41,
   "metadata": {},
   "outputs": [],
   "source": [
    "# Schema for structured output to use in evaluation\n",
    "from pydantic import BaseModel, Field\n",
    "from typing import Literal\n",
    "\n",
    "class Feedback(BaseModel):\n",
    "    grade: Literal[True, False] = Field(\n",
    "        description=\"Decide if the sql query is optimized or now\",\n",
    "    )\n",
    "    feedback: str = Field(\n",
    "        description=\"if the sql query is not optimized, provide feedback on how to improve it.\",\n",
    "    )\n",
    "    \n",
    "def query_evaluator(state: State):\n",
    "    print(\"QUERY_EVALUATOR\")\n",
    "    # Pass the question and SQL query to the verification agent\n",
    "    verification_prompt = f\"\"\"\n",
    "    User question: {state['question']}\n",
    "    SQL query to verify:\n",
    "    \n",
    "    {state['sql_query']}\n",
    "    \n",
    "    Analyze this SQL query for correctness, efficiency, and whether it properly answers the question.\n",
    "    \"\"\"\n",
    "\n",
    "    # Augment the LLM with schema for structured output\n",
    "    evaluator = llm.with_structured_output(Feedback)\n",
    "    result = evaluator.invoke(verification_prompt)\n",
    "    print(state[\"sql_query\"])\n",
    "    return {\"optimized\": result.grade, \"feedback\": result.feedback}\n"
   ]
  },
  {
   "cell_type": "code",
   "execution_count": 42,
   "metadata": {},
   "outputs": [],
   "source": [
    "# Execute SQL to get result\n",
    "def sql_executor(state:State):\n",
    "    print(\"EXECUTE QUERY\")\n",
    "    try:\n",
    "        conn = get_db_connection()\n",
    "        cursor = conn.cursor()\n",
    "        cursor.execute(state['sql_query'])\n",
    "        rows = cursor.fetchall()\n",
    "        results = [dict(row) for row in rows]\n",
    "        conn.close()\n",
    "        return {\"results\": results}\n",
    "    except Exception as e:\n",
    "        return [{\"error\": str(e)}]"
   ]
  },
  {
   "cell_type": "markdown",
   "metadata": {},
   "source": [
    "##### Router"
   ]
  },
  {
   "cell_type": "code",
   "execution_count": 43,
   "metadata": {},
   "outputs": [],
   "source": [
    "# Conditional edge function to route back to joke generator or end based upon feedback from the evaluator\n",
    "def route_path(state: State):\n",
    "    \"\"\"Route back to joke generator or end based upon feedback from the evaluator\"\"\"\n",
    "\n",
    "    if state[\"optimized\"] == True:\n",
    "        return \"Accepted\"\n",
    "    elif state[\"foptimized\"] == False:\n",
    "        return \"Rejected + Feedback\""
   ]
  },
  {
   "cell_type": "markdown",
   "metadata": {},
   "source": [
    "##### Graph"
   ]
  },
  {
   "cell_type": "code",
   "execution_count": 44,
   "metadata": {},
   "outputs": [
    {
     "data": {
      "text/plain": [
       "<langgraph.graph.state.StateGraph at 0x132bebfb0>"
      ]
     },
     "execution_count": 44,
     "metadata": {},
     "output_type": "execute_result"
    }
   ],
   "source": [
    "# Build workflow\n",
    "from langgraph.graph import StateGraph, START, END\n",
    "\n",
    "optimizer_builder = StateGraph(State)\n",
    "\n",
    "# Add the nodes\n",
    "optimizer_builder.add_node(\"generate_query\", query_generator)\n",
    "optimizer_builder.add_node(\"evaluate_query\", query_evaluator)\n",
    "optimizer_builder.add_node(\"execute_sql\", sql_executor)\n",
    "\n",
    "\n",
    "# Add edges to connect nodes\n",
    "optimizer_builder.add_edge(START, \"generate_query\")\n",
    "optimizer_builder.add_edge(\"generate_query\", \"evaluate_query\")\n",
    "optimizer_builder.add_conditional_edges(\n",
    "    \"evaluate_query\",\n",
    "    route_path,\n",
    "    {  # Name returned by route_joke : Name of next node to visit\n",
    "        \"Accepted\": \"execute_sql\",\n",
    "        \"Rejected + Feedback\": \"generate_query\",\n",
    "    },\n",
    ")\n",
    "optimizer_builder.add_edge(\"execute_sql\", END)"
   ]
  },
  {
   "cell_type": "markdown",
   "metadata": {},
   "source": [
    "##### Compile the Graph"
   ]
  },
  {
   "cell_type": "code",
   "execution_count": null,
   "metadata": {},
   "outputs": [],
   "source": [
    "# Compile the workflow\n",
    "optimizer_workflow = optimizer_builder.compile()"
   ]
  },
  {
   "cell_type": "markdown",
   "metadata": {},
   "source": [
    "##### Display the graph"
   ]
  },
  {
   "cell_type": "code",
   "execution_count": null,
   "metadata": {},
   "outputs": [
    {
     "data": {
      "image/png": "[encoded data removed]",
      "text/plain": [
       "<IPython.core.display.Image object>"
      ]
     },
     "metadata": {},
     "output_type": "display_data"
    }
   ],
   "source": [
    "# Show the workflow\n",
    "from IPython.display import Image, display\n",
    "display(Image(optimizer_workflow.get_graph().draw_mermaid_png()))"
   ]
  },
  {
   "cell_type": "markdown",
   "metadata": {},
   "source": [
    "##### Invoke Agent"
   ]
  },
  {
   "cell_type": "code",
   "execution_count": 46,
   "metadata": {},
   "outputs": [
    {
     "name": "stdout",
     "output_type": "stream",
     "text": [
      "QUERY GENERATOR\n",
      "QUERY_EVALUATOR\n",
      "SELECT g.Name as Genre, COUNT(t.TrackId) as NumberOfSongs\n",
      "FROM genres g\n",
      "LEFT JOIN tracks t ON g.GenreId = t.GenreId\n",
      "GROUP BY g.GenreId, g.Name\n",
      "ORDER BY g.Name;\n",
      "EXECUTE QUERY\n",
      "SELECT g.Name as Genre, COUNT(t.TrackId) as NumberOfSongs\n",
      "FROM genres g\n",
      "LEFT JOIN tracks t ON g.GenreId = t.GenreId\n",
      "GROUP BY g.GenreId, g.Name\n",
      "ORDER BY g.Name;\n",
      "[{'Genre': 'Alternative', 'NumberOfSongs': 40}, {'Genre': 'Alternative & Punk', 'NumberOfSongs': 332}, {'Genre': 'Blues', 'NumberOfSongs': 81}, {'Genre': 'Bossa Nova', 'NumberOfSongs': 15}, {'Genre': 'Classical', 'NumberOfSongs': 74}, {'Genre': 'Comedy', 'NumberOfSongs': 17}, {'Genre': 'Drama', 'NumberOfSongs': 64}, {'Genre': 'Easy Listening', 'NumberOfSongs': 24}, {'Genre': 'Electronica/Dance', 'NumberOfSongs': 30}, {'Genre': 'Heavy Metal', 'NumberOfSongs': 28}, {'Genre': 'Hip Hop/Rap', 'NumberOfSongs': 35}, {'Genre': 'Jazz', 'NumberOfSongs': 130}, {'Genre': 'Latin', 'NumberOfSongs': 579}, {'Genre': 'Metal', 'NumberOfSongs': 374}, {'Genre': 'Opera', 'NumberOfSongs': 1}, {'Genre': 'Pop', 'NumberOfSongs': 48}, {'Genre': 'R&B/Soul', 'NumberOfSongs': 61}, {'Genre': 'Reggae', 'NumberOfSongs': 58}, {'Genre': 'Rock', 'NumberOfSongs': 1297}, {'Genre': 'Rock And Roll', 'NumberOfSongs': 12}, {'Genre': 'Sci Fi & Fantasy', 'NumberOfSongs': 26}, {'Genre': 'Science Fiction', 'NumberOfSongs': 13}, {'Genre': 'Soundtrack', 'NumberOfSongs': 43}, {'Genre': 'TV Shows', 'NumberOfSongs': 93}, {'Genre': 'World', 'NumberOfSongs': 28}]\n"
     ]
    }
   ],
   "source": [
    "# Invoke\n",
    "state = optimizer_workflow.invoke({\"question\": \"How many songs are in each genre\"})\n",
    "print(state[\"sql_query\"])\n",
    "print(state['results'])"
   ]
  },
  {
   "cell_type": "markdown",
   "metadata": {},
   "source": [
    "#### Testing"
   ]
  },
  {
   "cell_type": "code",
   "execution_count": null,
   "metadata": {},
   "outputs": [],
   "source": [
    "from textwrap import dedent\n",
    "\n",
    "# Nodes\n",
    "def query_generator(state: State):\n",
    "    print(\"QUERY GENERATOR\")\n",
    "\n",
    "    original_query = ''\n",
    "    feedback = ''\n",
    "    if \"sql_query\" in state:\n",
    "        original_query = state[\"sql_query\"]\n",
    "        feedback = state[\"feedback\"]\n",
    "\n",
    "    sql_creator_system_message = dedent(f\"\"\"\n",
    "        You are an expert SQL query optimizer who creates accurate, efficient SQL queries from natural language questions.\n",
    "        \n",
    "        DATABASE SCHEMA:\n",
    "        {get_db_schema()}\n",
    "        \n",
    "        Your goal is to create SQL correctly to answers the question:  {state['question']}\n",
    "        Consider:\n",
    "        - Previous generated query for optimiztion in {original_query}\n",
    "        - feedback on the previous query generation in {feedback}\n",
    "        \n",
    "        Return only the SQL query.\n",
    "        Do not include any other text in your response.\n",
    "\n",
    "  \n",
    "    \"\"\")\n",
    "\n",
    "\n",
    "    msg = llm.invoke(sql_creator_system_message)\n",
    "    return msg.content"
   ]
  },
  {
   "cell_type": "code",
   "execution_count": null,
   "metadata": {},
   "outputs": [],
   "source": [
    "teststate = State()\n",
    "teststate['question'] = 'How many songs are in each genre'\n",
    "\n",
    "query_generator(teststate)\n"
   ]
  },
  {
   "cell_type": "code",
   "execution_count": null,
   "metadata": {},
   "outputs": [],
   "source": [
    "# Schema for structured output to use in evaluation\n",
    "from pydantic import BaseModel, Field\n",
    "from typing import Literal\n",
    "\n",
    "class Feedback(BaseModel):\n",
    "    grade: Literal[True, False] = Field(\n",
    "        description=\"Decide if the sql query is optimized or now\",\n",
    "    )\n",
    "    feedback: str = Field(\n",
    "        description=\"if the sql query is not optimized, provide feedback on how to improve it.\",\n",
    "    )\n",
    "    \n",
    "def query_evaluator(sql_query, question):\n",
    "    print(\"QUERY_EVALUATOR\")\n",
    "    # Pass the question and SQL query to the verification agent\n",
    "    verification_prompt = f\"\"\"\n",
    "    User question: {question}\n",
    "    SQL query to verify:\n",
    "    \n",
    "    {sql_query}\n",
    "    \n",
    "    Analyze this SQL query for correctness, efficiency, and whether it properly answers the question.\n",
    "    \"\"\"\n",
    "\n",
    "    # Augment the LLM with schema for structured output\n",
    "    evaluator = llm.with_structured_output(Feedback)\n",
    "    result = evaluator.invoke(verification_prompt)\n",
    "    return result\n"
   ]
  },
  {
   "cell_type": "code",
   "execution_count": null,
   "metadata": {},
   "outputs": [],
   "source": [
    "question = 'How many songs are in each genre'\n",
    "query = \"'SELECT g.Name as Genre, COUNT(t.TrackId) as SongCount\\nFROM Genre g\\nLEFT JOIN Track t ON g.GenreId = t.GenreId\\nGROUP BY g.GenreId, g.Name\\nORDER BY SongCount DESC;'\""
   ]
  },
  {
   "cell_type": "code",
   "execution_count": null,
   "metadata": {},
   "outputs": [],
   "source": [
    "result = query_evaluator(query, question)\n",
    "result.grade    "
   ]
  }
 ],
 "metadata": {
  "kernelspec": {
   "display_name": "Python 3",
   "language": "python",
   "name": "python3"
  },
  "language_info": {
   "codemirror_mode": {
    "name": "ipython",
    "version": 3
   },
   "file_extension": ".py",
   "mimetype": "text/x-python",
   "name": "python",
   "nbconvert_exporter": "python",
   "pygments_lexer": "ipython3",
   "version": "3.12.5"
  }
 },
 "nbformat": 4,
 "nbformat_minor": 2
}
