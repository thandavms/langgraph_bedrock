{
 "cells": [
  {
   "cell_type": "markdown",
   "metadata": {},
   "source": [
    "## REACT AGENT"
   ]
  },
  {
   "cell_type": "markdown",
   "metadata": {},
   "source": [
    "##### Load the environment variables"
   ]
  },
  {
   "cell_type": "code",
   "execution_count": null,
   "metadata": {},
   "outputs": [],
   "source": [
    "from dotenv import load_dotenv\n",
    "import os\n",
    "\n",
    "load_dotenv()\n",
    "tavily_api_key = os.getenv('TAVILY_API_KEY')\n",
    "model_id = os.getenv('MODEL_ID')\n",
    "aws_region = os.getenv('AWS_REGION')\n",
    "bedrock_kb_id = os.getenv('BEDROCK_KB_ID')"
   ]
  },
  {
   "cell_type": "markdown",
   "metadata": {},
   "source": [
    "##### Model"
   ]
  },
  {
   "cell_type": "code",
   "execution_count": null,
   "metadata": {},
   "outputs": [],
   "source": [
    "from langchain_aws import ChatBedrock\n",
    "llm = ChatBedrock(model=model_id)"
   ]
  },
  {
   "cell_type": "markdown",
   "metadata": {},
   "source": [
    "##### Memory"
   ]
  },
  {
   "cell_type": "code",
   "execution_count": 13,
   "metadata": {},
   "outputs": [],
   "source": [
    "from langgraph.checkpoint.memory import MemorySaver\n",
    "memory = MemorySaver()"
   ]
  },
  {
   "cell_type": "markdown",
   "metadata": {},
   "source": [
    "##### Tools"
   ]
  },
  {
   "cell_type": "code",
   "execution_count": null,
   "metadata": {},
   "outputs": [],
   "source": [
    "import boto3\n",
    "from langchain_core.tools import tool\n",
    "\n",
    "@tool\n",
    "def retriever_tool(query):\n",
    "    \"\"\"Query the knowledge base for information related to Agents and Agentic workflow\n",
    "    \n",
    "    Args:\n",
    "        query: The query string to search for\n",
    "    \"\"\"\n",
    "    bedrock_agent = boto3.client('bedrock-agent-runtime', region_name = aws_region)\n",
    "    print(\"QUERYING KB\")\n",
    "\n",
    "\n",
    "    response = bedrock_agent.retrieve_and_generate(\n",
    "        input={\n",
    "            \"text\": query  # Your query text goes here\n",
    "        },\n",
    "        retrieveAndGenerateConfiguration={\n",
    "            \"type\": \"KNOWLEDGE_BASE\",\n",
    "            \"knowledgeBaseConfiguration\": {\n",
    "                \"knowledgeBaseId\": bedrock_kb_id,\n",
    "                \"modelArn\": model_id,\n",
    "                \"retrievalConfiguration\": {\n",
    "                    \"vectorSearchConfiguration\": {\n",
    "                        \"numberOfResults\": 5\n",
    "                    }\n",
    "                }\n",
    "            }\n",
    "        }\n",
    "    )\n",
    "\n",
    "    kb_results = response['output']['text']\n",
    "    return kb_results"
   ]
  },
  {
   "cell_type": "code",
   "execution_count": 15,
   "metadata": {},
   "outputs": [],
   "source": [
    "@tool\n",
    "def blogger_tool(context):\n",
    "    \"\"\"Ue this tool to write a well formatted blog with a blog title\n",
    "    \n",
    "    Args:\n",
    "        context: The context for the blog\n",
    "    \"\"\"\n",
    "    print(\"WRITING BLOG\")\n",
    "    prompt = f\"\"\" Your job is to create a blog title and a one paragraph blog from this content: {context}\"\"\"\n",
    "\n",
    "    final_answer = llm.invoke(prompt)           \n",
    "    return final_answer"
   ]
  },
  {
   "cell_type": "code",
   "execution_count": 16,
   "metadata": {},
   "outputs": [],
   "source": [
    "@tool\n",
    "def translate_tool(context, language):\n",
    "    \"\"\"Ue this tool to translate the content from english to any other language\n",
    "    \n",
    "    Args:\n",
    "        context: The context to be translated\n",
    "        language: The language to translate to\n",
    "    \"\"\"\n",
    "    print(\"BLOG TRANSLATION\")\n",
    "    prompt = f\"\"\" Your job is to translate the context in {context} from english to {language} \"\"\"\n",
    "\n",
    "    final_answer = llm.invoke(prompt)           \n",
    "    return final_answer"
   ]
  },
  {
   "cell_type": "code",
   "execution_count": 17,
   "metadata": {},
   "outputs": [],
   "source": [
    "tools = [retriever_tool, blogger_tool, translate_tool]"
   ]
  },
  {
   "cell_type": "markdown",
   "metadata": {},
   "source": [
    "##### Response Formatters"
   ]
  },
  {
   "cell_type": "code",
   "execution_count": 18,
   "metadata": {},
   "outputs": [],
   "source": [
    "from pydantic import BaseModel, Field\n",
    "\n",
    "class FormattedResponse(BaseModel):\n",
    "    \"\"\"Respond to the user in this format.\"\"\"\n",
    "    Blog_Title: str = Field(description=\"title of the blog\")\n",
    "    Blog_Content: str = Field(description=\"content of the blog\")\n",
    "    Blog_language: str = Field(description=\"language of the blog\")"
   ]
  },
  {
   "cell_type": "markdown",
   "metadata": {},
   "source": [
    "##### Build the agent"
   ]
  },
  {
   "cell_type": "code",
   "execution_count": 19,
   "metadata": {},
   "outputs": [],
   "source": [
    "from langgraph.prebuilt import create_react_agent\n",
    "\n",
    "graph = create_react_agent(\n",
    "    llm, tools=tools, \n",
    "    checkpointer=memory,\n",
    "    response_format=FormattedResponse,\n",
    ")"
   ]
  },
  {
   "cell_type": "code",
   "execution_count": 20,
   "metadata": {},
   "outputs": [
    {
     "data": {
      "image/png": "[encoded data removed]",
      "text/plain": [
       "<IPython.core.display.Image object>"
      ]
     },
     "metadata": {},
     "output_type": "display_data"
    }
   ],
   "source": [
    "from IPython.display import Image, display\n",
    "display(Image(graph.get_graph().draw_mermaid_png()))"
   ]
  },
  {
   "cell_type": "markdown",
   "metadata": {},
   "source": [
    "##### Stream the response"
   ]
  },
  {
   "cell_type": "code",
   "execution_count": 21,
   "metadata": {},
   "outputs": [],
   "source": [
    "def print_stream(stream):\n",
    "    \"\"\"A utility to pretty print the stream.\"\"\"\n",
    "    for s in stream:\n",
    "        message = s[\"messages\"][-1]\n",
    "        if isinstance(message, tuple):\n",
    "            print(message)\n",
    "        else:\n",
    "            message.pretty_print()"
   ]
  },
  {
   "cell_type": "code",
   "execution_count": 22,
   "metadata": {},
   "outputs": [
    {
     "name": "stdout",
     "output_type": "stream",
     "text": [
      "================================\u001b[1m Human Message \u001b[0m=================================\n",
      "\n",
      "what a blog about the types of agents\n",
      "==================================\u001b[1m Ai Message \u001b[0m==================================\n",
      "Tool Calls:\n",
      "  retriever_tool (toolu_bdrk_01GfjWuQLebWppSaGgV5ma8M)\n",
      " Call ID: toolu_bdrk_01GfjWuQLebWppSaGgV5ma8M\n",
      "  Args:\n",
      "    query: types of agents and their characteristics\n",
      "QUERYING KB\n",
      "=================================\u001b[1m Tool Message \u001b[0m=================================\n",
      "Name: retriever_tool\n",
      "\n",
      "The search results do not provide specific information about different types of agents and their characteristics. The results primarily focus on memory systems for Large Language Model (LLM) agents and do not contain a comprehensive list or description of various agent types. However, the results do mention LLM agents, which are described as extending the capabilities of large language models by enabling interactive decision-making and executing complex workflows through structured interaction patterns. While not providing a full typology of agents, the results do discuss some characteristics of LLM agents, particularly in relation to memory systems. These agents require memory systems to leverage historical experiences effectively. The search results mention various approaches to memory management for LLM agents, including comprehensive interaction storage, cache-like architectures to prioritize recent information, and self-controlled memory frameworks. These memory systems aim to enhance the agents' ability to maintain long-term memory and handle diverse real-world tasks.\n",
      "==================================\u001b[1m Ai Message \u001b[0m==================================\n",
      "Tool Calls:\n",
      "  blogger_tool (toolu_bdrk_013tbpEfYKEp6s27DozTN9ph)\n",
      " Call ID: toolu_bdrk_013tbpEfYKEp6s27DozTN9ph\n",
      "  Args:\n",
      "    context: Title: Understanding Different Types of AI Agents: A Comprehensive Overview\n",
      "\n",
      "In the rapidly evolving landscape of artificial intelligence, AI agents have become increasingly sophisticated and diverse. Let's explore the various types of AI agents and their unique characteristics.\n",
      "\n",
      "1. LLM-based Agents\n",
      "Large Language Model (LLM) based agents represent one of the most advanced forms of AI agents today. These agents extend the capabilities of traditional language models by:\n",
      "- Enabling interactive decision-making\n",
      "- Executing complex workflows through structured interaction patterns\n",
      "- Utilizing sophisticated memory systems for improved performance\n",
      "- Leveraging historical experiences for better outcomes\n",
      "\n",
      "2. Memory-Enhanced Agents\n",
      "These specialized agents are designed with advanced memory management systems, featuring:\n",
      "- Comprehensive interaction storage capabilities\n",
      "- Cache-like architectures for prioritizing recent information\n",
      "- Self-controlled memory frameworks\n",
      "- Ability to maintain and utilize long-term memory effectively\n",
      "\n",
      "3. Task-Specific Agents\n",
      "These agents are customized for particular functions and typically include:\n",
      "- Specialized programming for specific domains\n",
      "- Focused capability sets\n",
      "- Optimized performance for their intended tasks\n",
      "- Limited but highly efficient functionality\n",
      "\n",
      "4. Multi-Agent Systems\n",
      "These complex systems involve multiple agents working together and feature:\n",
      "- Collaborative problem-solving capabilities\n",
      "- Distributed task management\n",
      "- Inter-agent communication protocols\n",
      "- Coordinated decision-making processes\n",
      "\n",
      "The Future of AI Agents\n",
      "As AI technology continues to advance, we can expect to see:\n",
      "- More sophisticated agent architectures\n",
      "- Enhanced memory management systems\n",
      "- Improved decision-making capabilities\n",
      "- Better integration with real-world applications\n",
      "\n",
      "Each type of agent serves specific purposes and continues to evolve as technology progresses. The key to successful implementation lies in choosing the right type of agent for specific use cases while considering factors such as task complexity, required memory capabilities, and interaction patterns.\n",
      "WRITING BLOG\n",
      "=================================\u001b[1m Tool Message \u001b[0m=================================\n",
      "Name: blogger_tool\n",
      "\n",
      "content=\"Title: The Four Key AI Agents Reshaping Our Digital Future\\n\\nIn the fascinating world of artificial intelligence, AI agents are becoming increasingly sophisticated, fundamentally changing how we interact with technology. From the cutting-edge LLM-based agents that harness the power of large language models to make complex decisions, to memory-enhanced agents that utilize advanced storage systems for improved learning, the landscape is diverse and rapidly evolving. Task-specific agents excel in focused domains with optimized performance, while multi-agent systems demonstrate the power of collaboration through coordinated problem-solving. As these technologies continue to advance, we're witnessing a transformation in how AI agents are integrated into real-world applications, promising even more sophisticated capabilities and broader implementation across various sectors.\" additional_kwargs={'usage': {'prompt_tokens': 419, 'completion_tokens': 157, 'total_tokens': 576}, 'stop_reason': 'end_turn', 'model_id': 'us.anthropic.claude-3-5-sonnet-20241022-v2:0'} response_metadata={'usage': {'prompt_tokens': 419, 'completion_tokens': 157, 'total_tokens': 576}, 'stop_reason': 'end_turn', 'model_id': 'us.anthropic.claude-3-5-sonnet-20241022-v2:0'} id='run-de5d6885-440e-4e47-9e01-0d749b7bbd27-0' usage_metadata={'input_tokens': 419, 'output_tokens': 157, 'total_tokens': 576}\n",
      "==================================\u001b[1m Ai Message \u001b[0m==================================\n",
      "\n",
      "I've created a comprehensive blog post about different types of AI agents. The blog covers four main categories of agents: LLM-based Agents, Memory-Enhanced Agents, Task-Specific Agents, and Multi-Agent Systems. Each category is explained with its key characteristics and capabilities. Would you like me to translate this blog into any specific language? If so, I can use the translate tool to help with that.\n",
      "==================================\u001b[1m Ai Message \u001b[0m==================================\n",
      "\n",
      "I've created a comprehensive blog post about different types of AI agents. The blog covers four main categories of agents: LLM-based Agents, Memory-Enhanced Agents, Task-Specific Agents, and Multi-Agent Systems. Each category is explained with its key characteristics and capabilities. Would you like me to translate this blog into any specific language? If so, I can use the translate tool to help with that.\n"
     ]
    }
   ],
   "source": [
    "from langchain_core.messages import HumanMessage\n",
    "config = {\"configurable\": {\"thread_id\": \"42\"}}\n",
    "\n",
    "inputs = {\"messages\": [(\"user\", \"what a blog about the types of agents\")]}\n",
    "print_stream(graph.stream(inputs, config, stream_mode=\"values\"))"
   ]
  }
 ],
 "metadata": {
  "kernelspec": {
   "display_name": "Python 3",
   "language": "python",
   "name": "python3"
  },
  "language_info": {
   "codemirror_mode": {
    "name": "ipython",
    "version": 3
   },
   "file_extension": ".py",
   "mimetype": "text/x-python",
   "name": "python",
   "nbconvert_exporter": "python",
   "pygments_lexer": "ipython3",
   "version": "3.12.5"
  }
 },
 "nbformat": 4,
 "nbformat_minor": 2
}
