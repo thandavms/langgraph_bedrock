{
 "cells": [
  {
   "cell_type": "markdown",
   "metadata": {},
   "source": [
    "## Multi Agent - Langgraph and Bedrock Agent"
   ]
  },
  {
   "cell_type": "markdown",
   "metadata": {},
   "source": [
    "##### Load the environment variables"
   ]
  },
  {
   "cell_type": "code",
   "execution_count": null,
   "metadata": {},
   "outputs": [],
   "source": [
    "from dotenv import load_dotenv\n",
    "import os\n",
    "\n",
    "load_dotenv()\n",
    "tavily_api_key = os.getenv('TAVILY_API_KEY')\n",
    "model_id = os.getenv('MODEL_ID')\n",
    "aws_region = os.getenv('AWS_REGION')\n",
    "bedrock_kb_id = os.getenv('BEDROCK_KB_ID')\n",
    "bedrock_agent_id = os.getenv('BEDROCK_AGENT_ID')\n",
    "bedrock_agent_alias_id = os.getenv('BEDROCK_AGENT_ALIAS_ID')"
   ]
  },
  {
   "cell_type": "markdown",
   "metadata": {},
   "source": [
    "##### Model"
   ]
  },
  {
   "cell_type": "code",
   "execution_count": null,
   "metadata": {},
   "outputs": [],
   "source": [
    "## Model - Agent Brain\n",
    "from langchain_aws import ChatBedrock\n",
    "llm = ChatBedrock(model=model_id)"
   ]
  },
  {
   "cell_type": "markdown",
   "metadata": {},
   "source": [
    "##### Agent State"
   ]
  },
  {
   "cell_type": "code",
   "execution_count": 2,
   "metadata": {},
   "outputs": [],
   "source": [
    "from typing import TypedDict\n",
    "\n",
    "class MultiAgentState(TypedDict):\n",
    "    question: str\n",
    "    question_type: str\n",
    "    answer: str\n",
    "    feedback: str"
   ]
  },
  {
   "cell_type": "code",
   "execution_count": 3,
   "metadata": {},
   "outputs": [],
   "source": [
    "from langchain.prompts import PromptTemplate, ChatPromptTemplate\n",
    "from langchain_core.output_parsers import JsonOutputParser, StrOutputParser\n",
    "\n",
    "def rewrite_node(state: MultiAgentState):\n",
    "    \"\"\"\n",
    "   REwrite question from query to match domain expert\n",
    "    Args:\n",
    "        question (str): The user query\n",
    "    Returns:\n",
    "        promt (str): rewrite question to form an expert prompt\n",
    "    \"\"\"\n",
    "    print(\"---REWRITE QUESTION---\")\n",
    "    c3_template = \"\"\"Rewrite the question by following the {{instruction}} to capture more precise and comprehensive intent from {question}.\n",
    "    <instructions> \n",
    "        <step>Identify the key purposes, concepts and entities in the original {{question}}.</step> \n",
    "        <step>Rephrase the question to be more specific and focused, ensuring that the language is clear and unambiguous.</step> \n",
    "        <step>Provide additional context or background information that may be helpful for web search or RAG system to better understand and respond to the question.</step> \n",
    "        <step>Output your reqritten question only without answering it or repeating the riginal one.</step>\n",
    "    </instructions> \n",
    "    \"\"\"\n",
    "    \n",
    "    c3_prompt = ChatPromptTemplate.from_template(c3_template)\n",
    "    #chain = ( c3_prompt | llm_c3 | StrOutputParser() | (lambda x: x.split(\"\\n\")))\n",
    "    rewritten_chain = ( c3_prompt | llm | StrOutputParser() )\n",
    "    rewritten_question = rewritten_chain.invoke({\"question\": state['question']})\n",
    "    print(rewritten_question)\n",
    "\n",
    "    return {\"answer\": rewritten_question}"
   ]
  },
  {
   "cell_type": "code",
   "execution_count": 4,
   "metadata": {},
   "outputs": [],
   "source": [
    "#####\n",
    "# Router agent\n",
    "#####\n",
    "from langchain_core.messages import SystemMessage, HumanMessage, ToolMessage, AnyMessage\n",
    "\n",
    "question_category_prompt = '''You are a senior specialist of analytical support. Your task is to classify the incoming questions. \n",
    "Depending on your answer, question will be routed to the right team, so your task is crucial for our team. \n",
    "There are 3 possible question types: \n",
    "- Websearch- Answer questions based on events happened recently, after most LLM's cut-off dates. \n",
    "- General - Answer questions for LLM or a few LLMs.\n",
    "- Agents - Any information related to AI Agents and Agents memory.\n",
    "Return in the output only one word (WEBSEARCH, GENERAL, AGENTS).\n",
    "'''\n",
    "\n",
    "def router_node(state: MultiAgentState):\n",
    "    print('Router node started execution')\n",
    "    messages = [\n",
    "        SystemMessage(content=question_category_prompt), \n",
    "        HumanMessage(content=state['question'])\n",
    "    ]\n",
    "    response = llm.invoke(messages)\n",
    "    print('Question type: %s' % response.content)\n",
    "    return {\"question_type\": response.content}"
   ]
  },
  {
   "cell_type": "markdown",
   "metadata": {},
   "source": [
    "##### Langchain Agent"
   ]
  },
  {
   "cell_type": "code",
   "execution_count": null,
   "metadata": {},
   "outputs": [],
   "source": [
    "import os\n",
    "from langchain_community.tools.tavily_search import TavilySearchResults\n",
    "from langgraph.prebuilt import create_react_agent\n",
    "\n",
    "def search_expert_node(state: MultiAgentState):\n",
    "    tavily_tool = TavilySearchResults(max_results=5)\n",
    "\n",
    "    search_expert_system_prompt = '''\n",
    "    You are an expert in LangChain and other technologies. \n",
    "    Your goal is to answer questions based on results provided by search.\n",
    "    You don't add anything yourself and provide only information baked by other sources. \n",
    "    '''\n",
    "    search_agent = create_react_agent(llm, [tavily_tool],\n",
    "        state_modifier = search_expert_system_prompt)\n",
    "    \n",
    "    messages = [HumanMessage(content=state['question'])]\n",
    "    result = search_agent.invoke({\"messages\": messages})\n",
    "    return {'answer': result['messages'][-1].content}\n"
   ]
  },
  {
   "cell_type": "markdown",
   "metadata": {},
   "source": [
    "##### Bedrock Agent"
   ]
  },
  {
   "cell_type": "code",
   "execution_count": null,
   "metadata": {},
   "outputs": [],
   "source": [
    "import uuid\n",
    "import logging\n",
    "from datetime import datetime\n",
    "import boto3\n",
    "\n",
    "bedrock_agent_runtime_client = boto3.client(service_name='bedrock-agent-runtime', region_name = aws_region)\n",
    "\n",
    "def invoke_BR_agent(agent_id, alias_id, query, enable_trace=False, session_state=dict()):\n",
    "    session_id = str(uuid.uuid1())\n",
    "    end_session = False\n",
    "    \n",
    "    # invoke the agent API\n",
    "    agentResponse = bedrock_agent_runtime_client.invoke_agent(\n",
    "        inputText=query,\n",
    "        agentId=bedrock_agent_id,\n",
    "        agentAliasId=bedrock_agent_alias_id, \n",
    "        sessionId=session_id,\n",
    "        enableTrace=enable_trace, \n",
    "        endSession= end_session,\n",
    "        sessionState=session_state\n",
    "    )\n",
    "    \n",
    "    event_stream = agentResponse['completion']\n",
    "    try:\n",
    "        for event in event_stream:        \n",
    "            if 'chunk' in event:\n",
    "                data = event['chunk']['bytes']\n",
    "                agent_answer = data.decode('utf8')\n",
    "                end_event_received = True\n",
    "                return agent_answer\n",
    "                # End event indicates that the request finished successfully\n",
    "            else:\n",
    "                raise Exception(\"unexpected event.\", event)\n",
    "    except Exception as e:\n",
    "        raise Exception(\"unexpected event.\", e)\n",
    "\n",
    "def bedrock_agent_node(state:MultiAgentState):\n",
    "    today = datetime.today().strftime('%b-%d-%Y')\n",
    "    session_state = {\n",
    "        \"promptSessionAttributes\": {\n",
    "            \"name\": \"John Doe\",\n",
    "            \"today\": today\n",
    "        }\n",
    "    }\n",
    "    return {'answer': invoke_BR_agent(bedrock_agent_id, bedrock_agent_alias_id, state[\"question\"])}"
   ]
  },
  {
   "cell_type": "markdown",
   "metadata": {},
   "source": [
    "##### Router"
   ]
  },
  {
   "cell_type": "code",
   "execution_count": null,
   "metadata": {},
   "outputs": [],
   "source": [
    "\n",
    "def route_question(state: MultiAgentState):\n",
    "    print('route function execution')\n",
    "    print(state)\n",
    "    return state['question_type']"
   ]
  },
  {
   "cell_type": "markdown",
   "metadata": {},
   "source": [
    "##### Build the graph"
   ]
  },
  {
   "cell_type": "code",
   "execution_count": 12,
   "metadata": {},
   "outputs": [
    {
     "data": {
      "text/plain": [
       "<langgraph.graph.state.StateGraph at 0x118e5e960>"
      ]
     },
     "execution_count": 12,
     "metadata": {},
     "output_type": "execute_result"
    }
   ],
   "source": [
    "from langgraph.graph import StateGraph, END\n",
    "\n",
    "orch = StateGraph(MultiAgentState)\n",
    "orch.add_node(\"rewrite\", rewrite_node)\n",
    "orch.add_node(\"router\", router_node)\n",
    "orch.add_node('search_expert', search_expert_node)\n",
    "orch.add_node('agent_expert', bedrock_agent_node)\n",
    "\n",
    "orch.set_entry_point(\"rewrite\")\n",
    "orch.add_edge('rewrite', 'router')\n",
    "orch.add_conditional_edges('router', route_question, {\n",
    "    \"WEBSEARCH\" : 'search_expert',\n",
    "    \"AGENTS\" : 'agent_expert'\n",
    "})\n",
    "orch.add_edge('search_expert', END)\n",
    "orch.add_edge('agent_expert', END)"
   ]
  },
  {
   "cell_type": "markdown",
   "metadata": {},
   "source": [
    "##### Compile tha agent"
   ]
  },
  {
   "cell_type": "code",
   "execution_count": 14,
   "metadata": {},
   "outputs": [],
   "source": [
    "from langgraph.checkpoint.memory import MemorySaver\n",
    "memory = MemorySaver()\n",
    "\n",
    "graph = orch.compile(checkpointer=memory)"
   ]
  },
  {
   "cell_type": "code",
   "execution_count": 15,
   "metadata": {},
   "outputs": [
    {
     "data": {
      "image/png": "[encoded data removed]",
      "text/plain": [
       "<IPython.core.display.Image object>"
      ]
     },
     "metadata": {},
     "output_type": "display_data"
    }
   ],
   "source": [
    "from IPython.display import Image, display\n",
    "from langchain_core.runnables.graph import CurveStyle, MermaidDrawMethod #, NodeColors\n",
    "\n",
    "display(Image(graph.get_graph().draw_mermaid_png(\n",
    "    curve_style=CurveStyle.LINEAR,\n",
    "    #node_colors=NodeColors(start=\"#ffdfba\", end=\"#baffc9\", other=\"#fad7de\"),\n",
    "    #node_styles=custom_node_style,\n",
    "    wrap_label_n_words=9,\n",
    "    output_file_path=None,\n",
    "    draw_method=MermaidDrawMethod.API,\n",
    "    background_color=\"white\",\n",
    "    padding=20,\n",
    ")))"
   ]
  },
  {
   "cell_type": "markdown",
   "metadata": {},
   "source": [
    "##### Run the agent"
   ]
  },
  {
   "cell_type": "code",
   "execution_count": 18,
   "metadata": {},
   "outputs": [
    {
     "name": "stdout",
     "output_type": "stream",
     "text": [
      "---REWRITE QUESTION---\n",
      "What are the distinct types and characteristics of memory systems used in AI agents and autonomous systems, including their roles in learning, decision-making, and task execution? Include specific implementations such as episodic memory, working memory, and semantic memory in the context of artificial intelligence and cognitive architectures.\n",
      "{'rewrite': {'answer': 'What are the distinct types and characteristics of memory systems used in AI agents and autonomous systems, including their roles in learning, decision-making, and task execution? Include specific implementations such as episodic memory, working memory, and semantic memory in the context of artificial intelligence and cognitive architectures.'}}\n",
      "Router node started execution\n",
      "Question type: AGENTS\n",
      "route function execution\n",
      "{'question_type': 'AGENTS', 'question': 'what are the types of agentic memory', 'answer': 'What are the distinct types and characteristics of memory systems used in AI agents and autonomous systems, including their roles in learning, decision-making, and task execution? Include specific implementations such as episodic memory, working memory, and semantic memory in the context of artificial intelligence and cognitive architectures.'}\n",
      "{'router': {'question_type': 'AGENTS'}}\n",
      "{'agent_expert': {'answer': \"Based on the search results, the types of agentic memory are not explicitly mentioned. However, the search results discuss the concept of agentic memory systems and their methodologies. The agentic memory system described in the results is inspired by the Zettelkasten method and implements a dynamic and self-evolving memory system that enables LLM agents to maintain long-term memory without predetermined operations. The system's design emphasizes atomic note-taking, flexible linking mechanisms, and continuous evolution of knowledge structures.\\n\\n\\n\"}}\n"
     ]
    }
   ],
   "source": [
    "prompt = 'what are the types of agentic memory'\n",
    "thread = {\"configurable\": {\"thread_id\": \"42\",  \"recursion_limit\": 10}}\n",
    "for event in graph.stream({'question':prompt}, thread):\n",
    "        print(event)"
   ]
  }
 ],
 "metadata": {
  "kernelspec": {
   "display_name": "Python 3",
   "language": "python",
   "name": "python3"
  },
  "language_info": {
   "codemirror_mode": {
    "name": "ipython",
    "version": 3
   },
   "file_extension": ".py",
   "mimetype": "text/x-python",
   "name": "python",
   "nbconvert_exporter": "python",
   "pygments_lexer": "ipython3",
   "version": "3.12.5"
  }
 },
 "nbformat": 4,
 "nbformat_minor": 2
}
